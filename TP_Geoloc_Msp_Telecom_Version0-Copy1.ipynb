{
 "cells": [
  {
   "cell_type": "markdown",
   "metadata": {},
   "source": [
    "</style>\n",
    "<h1  style=\"text-align:center;font-size:70px\">\n",
    "    Challenge IOT\n",
    "    <h2 style=\"text-align:center\">\n",
    "    The Geolocation Challenge\n",
    "    </h2>\n",
    "    <br><br>\n",
    "    <h2 style=\"text-align:left;font-size:20px\">\n",
    "      <u>  Team Member : </u>\n",
    "          <h3 style=\"text-align:left;font-size:15px\">\n",
    "              <blockquote>\n",
    "              Sarra <br>\n",
    "              Mickael Lopes  </blockquote>\n",
    "          </h3>\n",
    "     </h2>\n",
    "</h1>"
   ]
  },
  {
   "cell_type": "markdown",
   "metadata": {},
   "source": [
    "# Challenge Report"
   ]
  },
  {
   "cell_type": "markdown",
   "metadata": {},
   "source": [
    "## Introduction "
   ]
  },
  {
   "cell_type": "markdown",
   "metadata": {},
   "source": [
    "The challenge is a network based location challenge based on RSSI (Received Signal Strength Indicator). \n",
    "\n",
    "A device send several messages at a given time to the nearest stations. Those stations records the message, with the associated signal strength, time of messages and other information.\n",
    "\n",
    "Based on all the indications, the goal is to predict the location of the device"
   ]
  },
  {
   "cell_type": "markdown",
   "metadata": {},
   "source": [
    "## Goals"
   ]
  },
  {
   "cell_type": "markdown",
   "metadata": {},
   "source": [
    "The Algorithm need to show the following : \n",
    "- Build feature matrix\n",
    "- Build ground truth\n",
    "- Plot error cumulative probability\n",
    "- Compute prediction criterion: _error @ 80%_\n",
    "- Extract prediction for the test set _(Save result in csv file)_\n",
    "- Build a _« leave 1 device out »_ predictor"
   ]
  },
  {
   "cell_type": "markdown",
   "metadata": {},
   "source": [
    "# Challenge Prediction"
   ]
  },
  {
   "cell_type": "code",
   "execution_count": 2,
   "metadata": {
    "ExecuteTime": {
     "end_time": "2018-12-24T19:16:23.736833Z",
     "start_time": "2018-12-24T19:16:23.721873Z"
    }
   },
   "outputs": [
    {
     "ename": "ImportError",
     "evalue": "No module named conda",
     "output_type": "error",
     "traceback": [
      "\u001b[0;31m\u001b[0m",
      "\u001b[0;31mImportError\u001b[0mTraceback (most recent call last)",
      "\u001b[0;32m<ipython-input-2-77dae65f234f>\u001b[0m in \u001b[0;36m<module>\u001b[0;34m()\u001b[0m\n\u001b[1;32m      9\u001b[0m \u001b[0;32mimport\u001b[0m \u001b[0mtime\u001b[0m\u001b[0;34m\u001b[0m\u001b[0m\n\u001b[1;32m     10\u001b[0m \u001b[0;32mimport\u001b[0m \u001b[0mos\u001b[0m\u001b[0;34m\u001b[0m\u001b[0m\n\u001b[0;32m---> 11\u001b[0;31m \u001b[0;32mimport\u001b[0m \u001b[0mconda\u001b[0m\u001b[0;34m\u001b[0m\u001b[0m\n\u001b[0m\u001b[1;32m     12\u001b[0m \u001b[0;34m\u001b[0m\u001b[0m\n\u001b[1;32m     13\u001b[0m \u001b[0mconda_file_dir\u001b[0m \u001b[0;34m=\u001b[0m \u001b[0mconda\u001b[0m\u001b[0;34m.\u001b[0m\u001b[0m__file__\u001b[0m\u001b[0;31m##\u001b[0m\u001b[0;34m\u001b[0m\u001b[0m\n",
      "\u001b[0;31mImportError\u001b[0m: No module named conda"
     ]
    }
   ],
   "source": [
    "%matplotlib inline\n",
    "import numpy as np\n",
    "import pandas as pd\n",
    "import matplotlib.pyplot as plt\n",
    "from geopy.distance import vincenty\n",
    "from sklearn.preprocessing import MultiLabelBinarizer\n",
    "import matplotlib.pyplot as plt\n",
    "import datetime\n",
    "import time\n",
    "import os\n",
    "import conda\n",
    "\n",
    "conda_file_dir = conda.__file__##\n",
    "conda_dir = conda_file_dir.split('lib')[0]\n",
    "proj_lib = os.path.join(os.path.join(conda_dir, 'pkgs\\proj4-4.9.3-hfa6e2cd_8\\Library\\share'))\n",
    "os.environ[\"PROJ_LIB\"] = proj_lib\n",
    "from mpl_toolkits.basemap import Basemap\n",
    "import xgboost as xgb\n",
    "from sklearn.preprocessing import StandardScaler\n",
    "import sklearn.linear_model as lm\n",
    "import seaborn as sns\n",
    "sns.set()\n",
    "import warnings\n",
    "warnings.filterwarnings(\"ignore\")"
   ]
  },
  {
   "cell_type": "markdown",
   "metadata": {},
   "source": [
    "** Utilities **"
   ]
  },
  {
   "cell_type": "code",
   "execution_count": 3,
   "metadata": {
    "ExecuteTime": {
     "end_time": "2018-12-24T19:01:53.823496Z",
     "start_time": "2018-12-24T19:01:53.816350Z"
    }
   },
   "outputs": [],
   "source": [
    "def vincenty_vec(vec_coord):\n",
    "    vin_vec_dist = np.zeros(vec_coord.shape[0])\n",
    "    if vec_coord.shape[1] !=  4:\n",
    "        print('ERROR: Bad number of columns (shall be = 4)')\n",
    "    else:\n",
    "        vin_vec_dist = [vincenty(vec_coord[m,0:2],vec_coord[m,2:]).meters for m in range(vec_coord.shape[0])]\n",
    "    return vin_vec_dist\n",
    "# evaluate distance error for each predicted point\n",
    "def Eval_geoloc(y_train_lat , y_train_lng, y_pred_lat, y_pred_lng):\n",
    "    vec_coord = np.array([y_train_lat , y_train_lng, y_pred_lat, y_pred_lng])\n",
    "    err_vec = vincenty_vec(np.transpose(vec_coord))\n",
    "    \n",
    "    return err_vec"
   ]
  },
  {
   "cell_type": "markdown",
   "metadata": {},
   "source": [
    "### Data exploration "
   ]
  },
  {
   "cell_type": "markdown",
   "metadata": {},
   "source": [
    "#### Import the data "
   ]
  },
  {
   "cell_type": "code",
   "execution_count": 4,
   "metadata": {
    "ExecuteTime": {
     "end_time": "2018-12-24T19:01:54.196334Z",
     "start_time": "2018-12-24T19:01:53.826490Z"
    }
   },
   "outputs": [],
   "source": [
    "# Load train and test data\n",
    "df_mess_train = pd.read_csv('mess_train_list.csv') # train set\n",
    "df_mess_test = pd.read_csv('mess_test_list.csv') # test set\n",
    "pos_train = pd.read_csv('pos_train_list.csv') # position associated to train set"
   ]
  },
  {
   "cell_type": "code",
   "execution_count": 5,
   "metadata": {
    "ExecuteTime": {
     "end_time": "2018-12-21T12:57:49.713215Z",
     "start_time": "2018-12-21T12:57:49.621345Z"
    }
   },
   "outputs": [
    {
     "data": {
      "text/html": [
       "<div>\n",
       "<style scoped>\n",
       "    .dataframe tbody tr th:only-of-type {\n",
       "        vertical-align: middle;\n",
       "    }\n",
       "\n",
       "    .dataframe tbody tr th {\n",
       "        vertical-align: top;\n",
       "    }\n",
       "\n",
       "    .dataframe thead th {\n",
       "        text-align: right;\n",
       "    }\n",
       "</style>\n",
       "<table border=\"1\" class=\"dataframe\">\n",
       "  <thead>\n",
       "    <tr style=\"text-align: right;\">\n",
       "      <th></th>\n",
       "      <th>messid</th>\n",
       "      <th>bsid</th>\n",
       "      <th>did</th>\n",
       "      <th>nseq</th>\n",
       "      <th>rssi</th>\n",
       "      <th>time_ux</th>\n",
       "      <th>bs_lat</th>\n",
       "      <th>bs_lng</th>\n",
       "    </tr>\n",
       "  </thead>\n",
       "  <tbody>\n",
       "    <tr>\n",
       "      <th>0</th>\n",
       "      <td>573bf1d9864fce1a9af8c5c9</td>\n",
       "      <td>2841</td>\n",
       "      <td>473335.0</td>\n",
       "      <td>0.5</td>\n",
       "      <td>-121.5</td>\n",
       "      <td>1.463546e+12</td>\n",
       "      <td>39.617794</td>\n",
       "      <td>-104.954917</td>\n",
       "    </tr>\n",
       "    <tr>\n",
       "      <th>1</th>\n",
       "      <td>573bf1d9864fce1a9af8c5c9</td>\n",
       "      <td>3526</td>\n",
       "      <td>473335.0</td>\n",
       "      <td>2.0</td>\n",
       "      <td>-125.0</td>\n",
       "      <td>1.463546e+12</td>\n",
       "      <td>39.677251</td>\n",
       "      <td>-104.952721</td>\n",
       "    </tr>\n",
       "    <tr>\n",
       "      <th>2</th>\n",
       "      <td>573bf3533e952e19126b256a</td>\n",
       "      <td>2605</td>\n",
       "      <td>473335.0</td>\n",
       "      <td>1.0</td>\n",
       "      <td>-134.0</td>\n",
       "      <td>1.463547e+12</td>\n",
       "      <td>39.612745</td>\n",
       "      <td>-105.008827</td>\n",
       "    </tr>\n",
       "    <tr>\n",
       "      <th>3</th>\n",
       "      <td>573c0cd0f0fe6e735a699b93</td>\n",
       "      <td>2610</td>\n",
       "      <td>473953.0</td>\n",
       "      <td>2.0</td>\n",
       "      <td>-132.0</td>\n",
       "      <td>1.463553e+12</td>\n",
       "      <td>39.797969</td>\n",
       "      <td>-105.073460</td>\n",
       "    </tr>\n",
       "    <tr>\n",
       "      <th>4</th>\n",
       "      <td>573c0cd0f0fe6e735a699b93</td>\n",
       "      <td>3574</td>\n",
       "      <td>473953.0</td>\n",
       "      <td>1.0</td>\n",
       "      <td>-120.0</td>\n",
       "      <td>1.463553e+12</td>\n",
       "      <td>39.723151</td>\n",
       "      <td>-104.956216</td>\n",
       "    </tr>\n",
       "  </tbody>\n",
       "</table>\n",
       "</div>"
      ],
      "text/plain": [
       "                     messid  bsid       did  nseq   rssi       time_ux  \\\n",
       "0  573bf1d9864fce1a9af8c5c9  2841  473335.0   0.5 -121.5  1.463546e+12   \n",
       "1  573bf1d9864fce1a9af8c5c9  3526  473335.0   2.0 -125.0  1.463546e+12   \n",
       "2  573bf3533e952e19126b256a  2605  473335.0   1.0 -134.0  1.463547e+12   \n",
       "3  573c0cd0f0fe6e735a699b93  2610  473953.0   2.0 -132.0  1.463553e+12   \n",
       "4  573c0cd0f0fe6e735a699b93  3574  473953.0   1.0 -120.0  1.463553e+12   \n",
       "\n",
       "      bs_lat      bs_lng  \n",
       "0  39.617794 -104.954917  \n",
       "1  39.677251 -104.952721  \n",
       "2  39.612745 -105.008827  \n",
       "3  39.797969 -105.073460  \n",
       "4  39.723151 -104.956216  "
      ]
     },
     "execution_count": 5,
     "metadata": {},
     "output_type": "execute_result"
    }
   ],
   "source": [
    "df_mess_train.head()"
   ]
  },
  {
   "cell_type": "markdown",
   "metadata": {},
   "source": [
    "We associate the data of messages to the data of devices positions."
   ]
  },
  {
   "cell_type": "code",
   "execution_count": 11,
   "metadata": {
    "ExecuteTime": {
     "end_time": "2018-12-24T19:02:09.126904Z",
     "start_time": "2018-12-24T19:02:09.083063Z"
    }
   },
   "outputs": [
    {
     "data": {
      "text/html": [
       "<div>\n",
       "<style scoped>\n",
       "    .dataframe tbody tr th:only-of-type {\n",
       "        vertical-align: middle;\n",
       "    }\n",
       "\n",
       "    .dataframe tbody tr th {\n",
       "        vertical-align: top;\n",
       "    }\n",
       "\n",
       "    .dataframe thead th {\n",
       "        text-align: right;\n",
       "    }\n",
       "</style>\n",
       "<table border=\"1\" class=\"dataframe\">\n",
       "  <thead>\n",
       "    <tr style=\"text-align: right;\">\n",
       "      <th></th>\n",
       "      <th>messid</th>\n",
       "      <th>bsid</th>\n",
       "      <th>did</th>\n",
       "      <th>nseq</th>\n",
       "      <th>rssi</th>\n",
       "      <th>time_ux</th>\n",
       "      <th>bs_lat</th>\n",
       "      <th>bs_lng</th>\n",
       "      <th>lat</th>\n",
       "      <th>lng</th>\n",
       "    </tr>\n",
       "  </thead>\n",
       "  <tbody>\n",
       "    <tr>\n",
       "      <th>0</th>\n",
       "      <td>573bf1d9864fce1a9af8c5c9</td>\n",
       "      <td>2841</td>\n",
       "      <td>473335.0</td>\n",
       "      <td>0.5</td>\n",
       "      <td>-121.5</td>\n",
       "      <td>1.463546e+12</td>\n",
       "      <td>39.617794</td>\n",
       "      <td>-104.954917</td>\n",
       "      <td>39.606690</td>\n",
       "      <td>-104.958490</td>\n",
       "    </tr>\n",
       "    <tr>\n",
       "      <th>1</th>\n",
       "      <td>573bf1d9864fce1a9af8c5c9</td>\n",
       "      <td>3526</td>\n",
       "      <td>473335.0</td>\n",
       "      <td>2.0</td>\n",
       "      <td>-125.0</td>\n",
       "      <td>1.463546e+12</td>\n",
       "      <td>39.677251</td>\n",
       "      <td>-104.952721</td>\n",
       "      <td>39.606690</td>\n",
       "      <td>-104.958490</td>\n",
       "    </tr>\n",
       "    <tr>\n",
       "      <th>2</th>\n",
       "      <td>573bf3533e952e19126b256a</td>\n",
       "      <td>2605</td>\n",
       "      <td>473335.0</td>\n",
       "      <td>1.0</td>\n",
       "      <td>-134.0</td>\n",
       "      <td>1.463547e+12</td>\n",
       "      <td>39.612745</td>\n",
       "      <td>-105.008827</td>\n",
       "      <td>39.637741</td>\n",
       "      <td>-104.958554</td>\n",
       "    </tr>\n",
       "    <tr>\n",
       "      <th>3</th>\n",
       "      <td>573c0cd0f0fe6e735a699b93</td>\n",
       "      <td>2610</td>\n",
       "      <td>473953.0</td>\n",
       "      <td>2.0</td>\n",
       "      <td>-132.0</td>\n",
       "      <td>1.463553e+12</td>\n",
       "      <td>39.797969</td>\n",
       "      <td>-105.073460</td>\n",
       "      <td>39.730417</td>\n",
       "      <td>-104.968940</td>\n",
       "    </tr>\n",
       "    <tr>\n",
       "      <th>4</th>\n",
       "      <td>573c0cd0f0fe6e735a699b93</td>\n",
       "      <td>3574</td>\n",
       "      <td>473953.0</td>\n",
       "      <td>1.0</td>\n",
       "      <td>-120.0</td>\n",
       "      <td>1.463553e+12</td>\n",
       "      <td>39.723151</td>\n",
       "      <td>-104.956216</td>\n",
       "      <td>39.730417</td>\n",
       "      <td>-104.968940</td>\n",
       "    </tr>\n",
       "  </tbody>\n",
       "</table>\n",
       "</div>"
      ],
      "text/plain": [
       "                     messid  bsid       did  nseq   rssi       time_ux  \\\n",
       "0  573bf1d9864fce1a9af8c5c9  2841  473335.0   0.5 -121.5  1.463546e+12   \n",
       "1  573bf1d9864fce1a9af8c5c9  3526  473335.0   2.0 -125.0  1.463546e+12   \n",
       "2  573bf3533e952e19126b256a  2605  473335.0   1.0 -134.0  1.463547e+12   \n",
       "3  573c0cd0f0fe6e735a699b93  2610  473953.0   2.0 -132.0  1.463553e+12   \n",
       "4  573c0cd0f0fe6e735a699b93  3574  473953.0   1.0 -120.0  1.463553e+12   \n",
       "\n",
       "      bs_lat      bs_lng        lat         lng  \n",
       "0  39.617794 -104.954917  39.606690 -104.958490  \n",
       "1  39.677251 -104.952721  39.606690 -104.958490  \n",
       "2  39.612745 -105.008827  39.637741 -104.958554  \n",
       "3  39.797969 -105.073460  39.730417 -104.968940  \n",
       "4  39.723151 -104.956216  39.730417 -104.968940  "
      ]
     },
     "execution_count": 11,
     "metadata": {},
     "output_type": "execute_result"
    }
   ],
   "source": [
    "df_train = pd.concat([df_mess_train,pos_train], axis=1)\n",
    "df_train.head()"
   ]
  },
  {
   "cell_type": "markdown",
   "metadata": {},
   "source": [
    "#### Explore messages count sent to base stations"
   ]
  },
  {
   "cell_type": "markdown",
   "metadata": {},
   "source": [
    "For Trilateration purposes, it is more accurate to focus on stations that received equal or more than 3 messages.\n",
    "\n",
    "We count the number of messages sent to 3 or more station bases."
   ]
  },
  {
   "cell_type": "code",
   "execution_count": 7,
   "metadata": {
    "ExecuteTime": {
     "end_time": "2018-12-24T19:02:13.426656Z",
     "start_time": "2018-12-24T19:02:13.386602Z"
    }
   },
   "outputs": [
    {
     "name": "stdout",
     "output_type": "stream",
     "text": [
      "Messages sent to 3 base stations or more :  62.39288068556361 %\n",
      "Messages sent to less than 3 stations:  37.60711931443639 %\n"
     ]
    }
   ],
   "source": [
    "data = df_train.groupby(\"messid\").count()[\"bsid\"]\n",
    "data_with_3_pos = data[data>=3].count()\n",
    "data_with_3_pos_less = data[data<3].count()\n",
    "\n",
    "\n",
    "print(\"Messages sent to 3 base stations or more : \" , (data_with_3_pos / data.count() * 100), \"%\")\n",
    "print(\"Messages sent to less than 3 stations: \" , (data_with_3_pos_less / data.count() * 100), \"%\")\n"
   ]
  },
  {
   "cell_type": "markdown",
   "metadata": {},
   "source": [
    "#### Explore the outliners: part 1"
   ]
  },
  {
   "cell_type": "markdown",
   "metadata": {},
   "source": [
    "In this part, we try to focus on possible outliners in the dataset based on a visualization method."
   ]
  },
  {
   "cell_type": "code",
   "execution_count": 1933,
   "metadata": {
    "ExecuteTime": {
     "end_time": "2018-12-20T17:09:00.466053Z",
     "start_time": "2018-12-20T17:08:55.319064Z"
    }
   },
   "outputs": [
    {
     "data": {
      "image/png": "[encoded data removed]",
      "text/plain": [
       "<Figure size 432x288 with 1 Axes>"
      ]
     },
     "metadata": {},
     "output_type": "display_data"
    }
   ],
   "source": [
    "# explore data : for each message, display corresponding bases\n",
    "plt.scatter(df_mess_train['bs_lat'], df_mess_train['bs_lng'], c = df_mess_train['rssi'])\n",
    "plt.title(\"Positions of base stations by rssi degree\")\n",
    "plt.xlabel(\"Base station latitude\")\n",
    "plt.ylabel(\"Base station longitude\")\n",
    "plt.show()"
   ]
  },
  {
   "cell_type": "code",
   "execution_count": null,
   "metadata": {},
   "outputs": [],
   "source": []
  },
  {
   "cell_type": "markdown",
   "metadata": {},
   "source": []
  },
  {
   "cell_type": "code",
   "execution_count": null,
   "metadata": {},
   "outputs": [],
   "source": []
  },
  {
   "cell_type": "markdown",
   "metadata": {},
   "source": [
    "We found out that some base stations are located in a remote area compared to the rest of base stations.\n",
    "\n",
    "Let's explore and see if those base stations are located nearby or far from the device."
   ]
  },
  {
   "cell_type": "code",
   "execution_count": 1934,
   "metadata": {
    "ExecuteTime": {
     "end_time": "2018-12-20T17:09:22.810791Z",
     "start_time": "2018-12-20T17:09:21.342669Z"
    }
   },
   "outputs": [
    {
     "data": {
      "image/png": "[encoded data removed]",
      "text/plain": [
       "<Figure size 432x288 with 1 Axes>"
      ]
     },
     "metadata": {},
     "output_type": "display_data"
    }
   ],
   "source": [
    "idx = df_train.index[df_train['bs_lat'] > 60].tolist()\n",
    "df_outliner_60 = df_train.loc[idx]\n",
    "plt.scatter(df_outliner_60['bs_lat'], df_outliner_60['bs_lng'], c = df_outliner_60['rssi'])\n",
    "plt.plot(df_outliner_60['lat'], df_outliner_60['lng'], 'go')\n",
    "plt.show()"
   ]
  },
  {
   "cell_type": "markdown",
   "metadata": {},
   "source": [
    "From this graph, we see that the devices are far awary from the base stations they send messages to."
   ]
  },
  {
   "cell_type": "code",
   "execution_count": 1935,
   "metadata": {
    "ExecuteTime": {
     "end_time": "2018-12-20T17:09:27.249993Z",
     "start_time": "2018-12-20T17:09:27.210713Z"
    }
   },
   "outputs": [
    {
     "name": "stdout",
     "output_type": "stream",
     "text": [
      "We discovered  27  base stations located far from the corresponding 49  devices\n"
     ]
    }
   ],
   "source": [
    "print(\"We discovered \", len(df_outliner_60['bsid'].unique()),\\\n",
    "      \" base stations located far from the corresponding\",\\\n",
    "     len(df_outliner_60['did'].unique()), \" devices\")"
   ]
  },
  {
   "cell_type": "markdown",
   "metadata": {},
   "source": [
    "We decide to adjust base stations locations to have more accurate values, based on the rssi values they have for a certain device"
   ]
  },
  {
   "cell_type": "code",
   "execution_count": 8,
   "metadata": {
    "ExecuteTime": {
     "end_time": "2018-12-24T19:03:17.441286Z",
     "start_time": "2018-12-24T19:02:29.379101Z"
    }
   },
   "outputs": [],
   "source": [
    "# Get the messages corresponding to these \n",
    "idx = df_train.index[df_train['bs_lat'] > 60].tolist()\n",
    "message_outliner_60 =  df_train.loc[idx,'messid'].unique()\n",
    "# for each message, adjust the value of base lat and lng to nearest base stations by rssi value\n",
    "for msg in message_outliner_60:    \n",
    "    df_bymessage = df_train[df_train['messid'] == msg]\n",
    "    \n",
    "    index = df_bymessage.index[df_bymessage['bs_lat'] > 60].tolist()\n",
    "    for idx in index:\n",
    "    # We take the mean of the 3 nearest values\n",
    "        value = df_bymessage.loc[idx,'rssi']\n",
    "        tocompare = df_bymessage.iloc[(df_bymessage['rssi'] - value).abs().argsort()[1:4:]]#\n",
    "        index_tocompare = tocompare.index[ tocompare['bs_lat'] < 60].tolist()\n",
    "        \n",
    "        if (len(index_tocompare)) > 0:\n",
    "            v_lat = tocompare.loc[index_tocompare, 'bs_lat'].mean()        \n",
    "            v_lng = tocompare.loc[index_tocompare, 'bs_lng'].mean()\n",
    "            df_train.loc[idx,'bs_lat'] = v_lat\n",
    "            df_train.loc[idx, 'bs_lng'] = v_lng\n",
    "        else:\n",
    "            df_train = df_train.drop(idx)\n",
    "           \n"
   ]
  },
  {
   "cell_type": "markdown",
   "metadata": {},
   "source": [
    "Let's see now if adjusting these value affected our data set "
   ]
  },
  {
   "cell_type": "code",
   "execution_count": 18,
   "metadata": {
    "ExecuteTime": {
     "end_time": "2018-12-24T19:09:33.269703Z",
     "start_time": "2018-12-24T19:09:29.690376Z"
    }
   },
   "outputs": [
    {
     "data": {
      "image/png": "[encoded data removed]",
      "text/plain": [
       "<Figure size 432x288 with 1 Axes>"
      ]
     },
     "metadata": {},
     "output_type": "display_data"
    }
   ],
   "source": [
    "plt.scatter(df_train['bs_lat'], df_train['bs_lng'], c = df_train['rssi'])\n",
    "plt.plot(df_train['lat'], df_train['lng'], 'go')\n",
    "plt.title(\"Positions of devices and  base stations by rssi degree\")\n",
    "plt.xlabel(\"Base station and device latitude\")\n",
    "plt.ylabel(\"Base station and device longitude\")\n",
    "plt.show()"
   ]
  },
  {
   "cell_type": "markdown",
   "metadata": {},
   "source": [
    "** Conclusion : **\n",
    "After adjusting the values of base stations positions, we still notice that some base stations are located far from the devices. This potential outliner need to be explored in the following part."
   ]
  },
  {
   "cell_type": "markdown",
   "metadata": {},
   "source": [
    "#### Explore the outliners: part 2"
   ]
  },
  {
   "cell_type": "markdown",
   "metadata": {},
   "source": [
    "We see in the last figure that there are some base stations that are far away from the line of devices.\n",
    "\n",
    "Let's  focus on the devices they are receiving messages from."
   ]
  },
  {
   "cell_type": "code",
   "execution_count": 19,
   "metadata": {
    "ExecuteTime": {
     "end_time": "2018-12-24T19:09:42.615679Z",
     "start_time": "2018-12-24T19:09:42.398221Z"
    }
   },
   "outputs": [
    {
     "data": {
      "image/png": "[encoded data removed]",
      "text/plain": [
       "<Figure size 432x288 with 1 Axes>"
      ]
     },
     "metadata": {},
     "output_type": "display_data"
    }
   ],
   "source": [
    "idx = df_train.index[df_train['bs_lat'] > 43].tolist()\n",
    "df_outliner_43 = df_train.loc[idx]\n",
    "plt.scatter(df_outliner_43['bs_lat'], df_outliner_43['bs_lng'], c = df_outliner_43['rssi'])\n",
    "plt.plot(df_outliner_43['lat'], df_outliner_43['lng'], 'go')\n",
    "plt.show()\n",
    "## --> position of device false"
   ]
  },
  {
   "cell_type": "code",
   "execution_count": 20,
   "metadata": {
    "ExecuteTime": {
     "end_time": "2018-12-24T19:09:49.418728Z",
     "start_time": "2018-12-24T19:09:49.401775Z"
    }
   },
   "outputs": [
    {
     "name": "stdout",
     "output_type": "stream",
     "text": [
      "We discovered 10 base stations located far from the corresponding 1 device\n"
     ]
    }
   ],
   "source": [
    "print(\"We discovered\", len(df_outliner_43['bsid'].unique()),\\\n",
    "       \"base stations located far from the corresponding\",\\\n",
    "     len(df_outliner_43['did'].unique()), \"device\")"
   ]
  },
  {
   "cell_type": "code",
   "execution_count": 21,
   "metadata": {
    "ExecuteTime": {
     "end_time": "2018-12-24T19:09:53.510739Z",
     "start_time": "2018-12-24T19:09:53.502763Z"
    }
   },
   "outputs": [
    {
     "name": "stdout",
     "output_type": "stream",
     "text": [
      "There are 44 sending messages to this device\n"
     ]
    }
   ],
   "source": [
    "device_43 = df_outliner_43['did'].unique()[0]\n",
    "base_stations_corresponding = df_train[df_train['did'] == device_43][\"bsid\"].unique()\n",
    "print(\"There are\", len(base_stations_corresponding), \"sending messages to this device\")"
   ]
  },
  {
   "cell_type": "markdown",
   "metadata": {},
   "source": [
    "In this case, we have to adjust the positions of the far away base stations"
   ]
  },
  {
   "cell_type": "code",
   "execution_count": 22,
   "metadata": {
    "ExecuteTime": {
     "end_time": "2018-12-24T19:09:57.437996Z",
     "start_time": "2018-12-24T19:09:57.420163Z"
    }
   },
   "outputs": [],
   "source": [
    "diff = set(base_stations_corresponding) - set(df_outliner_43['bsid'].unique())\n",
    "idx1 = df_train.index[np.isin(df_train['bsid'],np.array(base_stations_corresponding))].tolist()\n",
    "idx2 = df_train.index[df_train['did'] == device_43].tolist()\n",
    "idx = set(idx1).intersection(set(idx2))\n",
    "message_outliner_43 =  df_train.loc[idx,'messid'].unique()\n"
   ]
  },
  {
   "cell_type": "code",
   "execution_count": 23,
   "metadata": {
    "ExecuteTime": {
     "end_time": "2018-12-24T19:10:03.169545Z",
     "start_time": "2018-12-24T19:10:00.447262Z"
    }
   },
   "outputs": [],
   "source": [
    "# for each message, adjust the value of base lat and lng to nearest base stations by rssi value\n",
    "for msg in message_outliner_43:    \n",
    "    df_bymessage = df_train[df_train['messid'] == msg]\n",
    "    \n",
    "    index = df_bymessage.index[df_bymessage['bs_lat'] > 43].tolist()\n",
    "    \n",
    "    for idx in index:\n",
    "    # We take the mean of the 3 nearest values\n",
    "        value = df_bymessage.loc[idx,'rssi']\n",
    "        tocompare = df_bymessage.iloc[(df_bymessage['rssi'] - value).abs().argsort()[1:4:]]\n",
    "        index_tocompare = tocompare.index[ tocompare['bs_lat'] < 43].tolist()\n",
    "        if (len(index_tocompare)) > 0:\n",
    "            v_lat = tocompare.loc[index_tocompare, 'bs_lat'].mean()\n",
    "            v_lng = tocompare.loc[index_tocompare,'bs_lng'].mean()\n",
    "            df_train.loc[idx,'bs_lat'] = v_lat\n",
    "            df_train.loc[idx, 'bs_lng'] = v_lng\n",
    "        else:\n",
    "            df_train = df_train.drop(idx)"
   ]
  },
  {
   "cell_type": "code",
   "execution_count": 24,
   "metadata": {
    "ExecuteTime": {
     "end_time": "2018-12-24T19:10:04.746148Z",
     "start_time": "2018-12-24T19:10:04.718853Z"
    }
   },
   "outputs": [
    {
     "name": "stdout",
     "output_type": "stream",
     "text": [
      "Messages sent to 3 base stations or more : 63.833049403747864 %\n",
      "Messages sent to less than 3 stations:  36.16695059625213 %\n"
     ]
    }
   ],
   "source": [
    "data = df_train.groupby(\"messid\").count()[\"bsid\"]\n",
    "data_with_3_pos = data[data>=3].count()\n",
    "data_with_3_pos_less = data[data<3].count()\n",
    "\n",
    "print(\"Messages sent to 3 base stations or more :\", (data_with_3_pos / data.count() * 100), \"%\")\n",
    "print(\"Messages sent to less than 3 stations: \", (data_with_3_pos_less / data.count() * 100), \"%\")"
   ]
  },
  {
   "cell_type": "markdown",
   "metadata": {},
   "source": [
    "Let's see how the base stations and devices are located now."
   ]
  },
  {
   "cell_type": "code",
   "execution_count": 25,
   "metadata": {
    "ExecuteTime": {
     "end_time": "2018-12-24T19:10:11.985274Z",
     "start_time": "2018-12-24T19:10:08.313652Z"
    }
   },
   "outputs": [
    {
     "data": {
      "image/png": "[encoded data removed]",
      "text/plain": [
       "<Figure size 432x288 with 1 Axes>"
      ]
     },
     "metadata": {},
     "output_type": "display_data"
    }
   ],
   "source": [
    "plt.scatter(df_train['bs_lat'], df_train['bs_lng'], c = df_train['rssi'])\n",
    "plt.plot(df_train['lat'], df_train['lng'], 'go')\n",
    "plt.title(\"Positions of devices and base stations  by rssi degree\")\n",
    "plt.xlabel(\"Base station and device latitude\")\n",
    "plt.ylabel(\"Base station and device longitude\")\n",
    "plt.show()"
   ]
  },
  {
   "cell_type": "markdown",
   "metadata": {},
   "source": [
    "** Conclusion : **\n",
    "After adjusting the values of base stations localization, the localisation of base stations and devices are more accurate as they are more close by."
   ]
  },
  {
   "cell_type": "markdown",
   "metadata": {},
   "source": [
    "#### Explore the distance"
   ]
  },
  {
   "cell_type": "markdown",
   "metadata": {},
   "source": [
    "In our dataset, we have the RSSI information which corresponds to the Received Signal Strength Indication. It is the power of the signal received by the base stations.\n",
    "\n",
    "There is a relation between the RSSI and the distance between the base station and the device.\n",
    "RSSI = Ptx - 10 * n * log10(d) with:\n",
    "- Ptx : Transmitter power of the base station (in dBm)\n",
    "- n : The path loss exponent\n",
    "- d : The distance\n",
    "\n",
    "In Sigfox documentation (https://www.ismac-nc.net/wp/wp-content/uploads/2017/08/sigfoxtechnicaloverviewjuly2017-170802084218.pdf) :\n",
    "The Ptx corresponds to a value of 22, whereas the n correpsonds to a value of 6"
   ]
  },
  {
   "cell_type": "markdown",
   "metadata": {},
   "source": [
    "Another way to compute the distance between 2 objects given their latitude and longitute values is using the vincenty library"
   ]
  },
  {
   "cell_type": "markdown",
   "metadata": {},
   "source": [
    "Let's explore in our dataset the distance computation and how accurate the rssi values are."
   ]
  },
  {
   "cell_type": "code",
   "execution_count": 26,
   "metadata": {
    "ExecuteTime": {
     "end_time": "2018-12-24T19:10:23.029515Z",
     "start_time": "2018-12-24T19:10:16.454071Z"
    }
   },
   "outputs": [
    {
     "name": "stderr",
     "output_type": "stream",
     "text": [
      "C:\\Users\\hmann\\Anaconda3\\lib\\site-packages\\ipykernel_launcher.py:6: DeprecationWarning: Vincenty is deprecated and is going to be removed in geopy 2.0. Use `geopy.distance.geodesic` (or the default `geopy.distance.distance`) instead, which is more accurate and always converges.\n",
      "  \n"
     ]
    },
    {
     "data": {
      "image/png": "[encoded data removed]",
      "text/plain": [
       "<Figure size 432x288 with 1 Axes>"
      ]
     },
     "metadata": {},
     "output_type": "display_data"
    }
   ],
   "source": [
    "Ptx =  22\n",
    "n = 6\n",
    "\n",
    "d_vincenty = Eval_geoloc(df_train['bs_lat'] , df_train['bs_lng'], df_train['lat'], df_train['lng'])\n",
    "plt.scatter(d_vincenty, 10 ** (((Ptx - df_train['rssi'])) / (10 * n)), c = df_train['rssi'])\n",
    "plt.xlabel(\"Distance in vincenty\")\n",
    "plt.ylabel(\"Distance with rssi\")\n",
    "plt.title(\"Relation between distances computed with vincenty and rssi\")\n",
    "plt.show()"
   ]
  },
  {
   "cell_type": "markdown",
   "metadata": {},
   "source": [
    "We expect to find a linear relation between the two distances computed"
   ]
  },
  {
   "cell_type": "code",
   "execution_count": 27,
   "metadata": {
    "ExecuteTime": {
     "end_time": "2018-12-24T19:10:26.423287Z",
     "start_time": "2018-12-24T19:10:26.383391Z"
    }
   },
   "outputs": [
    {
     "name": "stdout",
     "output_type": "stream",
     "text": [
      "pente =  0.004423331446088364\n",
      "intercept =  283.1527365064734\n"
     ]
    }
   ],
   "source": [
    "d_vincenty = np.array(d_vincenty).reshape(-1,1)\n",
    "d_rssi = np.array(10 ** (((Ptx - df_train['rssi'])) / (10 * n)))\n",
    "reg = lm.LinearRegression().fit( d_vincenty, d_rssi)\n",
    "\n",
    "pente = reg.coef_[0]\n",
    "print(\"pente = \", pente)\n",
    "intercept= reg.intercept_\n",
    "print(\"intercept = \", intercept)"
   ]
  },
  {
   "cell_type": "code",
   "execution_count": 28,
   "metadata": {
    "ExecuteTime": {
     "end_time": "2018-12-24T19:10:34.725924Z",
     "start_time": "2018-12-24T19:10:31.289076Z"
    }
   },
   "outputs": [
    {
     "data": {
      "image/png": "[encoded data removed]",
      "text/plain": [
       "<Figure size 576x432 with 1 Axes>"
      ]
     },
     "metadata": {},
     "output_type": "display_data"
    }
   ],
   "source": [
    "fig = plt.figure(figsize = (8,6))\n",
    "\n",
    "plt.plot(d_vincenty, intercept + pente * d_vincenty)\n",
    "plt.scatter(d_vincenty, d_rssi, c = df_train['rssi'])\n",
    "plt.xlabel(\"Distance in vincenty\")\n",
    "plt.ylabel(\"Distance with rssi\")\n",
    "plt.title(\"Relation between distances computed with vincenty and rssi\")\n",
    "plt.show()"
   ]
  },
  {
   "cell_type": "markdown",
   "metadata": {},
   "source": [
    "We found that there are some outliners values from 50000 in vincenty distance:"
   ]
  },
  {
   "cell_type": "code",
   "execution_count": 1965,
   "metadata": {
    "ExecuteTime": {
     "end_time": "2018-12-20T17:21:46.139242Z",
     "start_time": "2018-12-20T17:21:41.722947Z"
    },
    "scrolled": true
   },
   "outputs": [
    {
     "data": {
      "image/png": "[encoded data removed]",
      "text/plain": [
       "<Figure size 576x432 with 1 Axes>"
      ]
     },
     "metadata": {},
     "output_type": "display_data"
    }
   ],
   "source": [
    "fig = plt.figure(figsize = (8,6))\n",
    "\n",
    "plt.plot(d_vincenty, intercept + pente * d_vincenty)\n",
    "plt.scatter(d_vincenty, d_rssi, c = df_train['rssi'])\n",
    "plt.xlim(0, 50000)\n",
    "plt.xlabel(\"Distance in vincenty\")\n",
    "plt.ylabel(\"Distance with rssi\")\n",
    "plt.title(\"Relation between distances computed with vincenty and rssi\")\n",
    "plt.show()"
   ]
  },
  {
   "cell_type": "markdown",
   "metadata": {},
   "source": [
    "In this case, we focus on latitude and longitude values of base stations for these points and adjust them."
   ]
  },
  {
   "cell_type": "code",
   "execution_count": 29,
   "metadata": {
    "ExecuteTime": {
     "end_time": "2018-12-24T19:10:44.165105Z",
     "start_time": "2018-12-24T19:10:40.799058Z"
    }
   },
   "outputs": [
    {
     "name": "stderr",
     "output_type": "stream",
     "text": [
      "C:\\Users\\hmann\\Anaconda3\\lib\\site-packages\\ipykernel_launcher.py:6: DeprecationWarning: Vincenty is deprecated and is going to be removed in geopy 2.0. Use `geopy.distance.geodesic` (or the default `geopy.distance.distance`) instead, which is more accurate and always converges.\n",
      "  \n"
     ]
    }
   ],
   "source": [
    "df_train['d_vincenty'] = Eval_geoloc(df_train['bs_lat'] , df_train['bs_lng'], df_train['lat'], df_train['lng'])\n",
    "idx = df_train.index[df_train['d_vincenty'] > 50000]\n",
    "\n",
    "message_outliner_rssi =  df_train.loc[idx,'messid'].unique()\n",
    "# for each message, adjust the value of base lat and lng to nearest base stations by rssi value\n",
    "for msg in message_outliner_rssi:    \n",
    "    df_bymessage = df_train[df_train['messid'] == msg]\n",
    "    index = df_bymessage.index[df_bymessage['d_vincenty']  > 50000].tolist()\n",
    "    for idx in index:\n",
    "        value = df_bymessage.loc[idx,'rssi']\n",
    "     # We take the mean of the 3 nearest values\n",
    "        tocompare = df_bymessage.iloc[(df_bymessage['rssi'] - value).abs().argsort()[1::]]\n",
    "        index_tocompare = tocompare.index[tocompare['d_vincenty'] < 50000].tolist()\n",
    "        if (len(index_tocompare)) > 0:\n",
    "            v_lat = tocompare.loc[index_tocompare, 'bs_lat'].mean()\n",
    "            v_lng = tocompare.loc[index_tocompare, 'bs_lng'].mean()\n",
    "            df_train.loc[idx,'bs_lat'] = v_lat\n",
    "            df_train.loc[idx, 'bs_lng'] = v_lng\n",
    "        else:\n",
    "            df_train = df_train.drop(idx)"
   ]
  },
  {
   "cell_type": "markdown",
   "metadata": {},
   "source": [
    "Now, let's see how readjusting these values impacted the distribution of base station and devices distances."
   ]
  },
  {
   "cell_type": "code",
   "execution_count": 30,
   "metadata": {
    "ExecuteTime": {
     "end_time": "2018-12-24T19:10:58.407269Z",
     "start_time": "2018-12-24T19:10:51.773970Z"
    }
   },
   "outputs": [
    {
     "name": "stderr",
     "output_type": "stream",
     "text": [
      "C:\\Users\\hmann\\Anaconda3\\lib\\site-packages\\ipykernel_launcher.py:6: DeprecationWarning: Vincenty is deprecated and is going to be removed in geopy 2.0. Use `geopy.distance.geodesic` (or the default `geopy.distance.distance`) instead, which is more accurate and always converges.\n",
      "  \n"
     ]
    },
    {
     "data": {
      "image/png": "[encoded data removed]",
      "text/plain": [
       "<Figure size 432x288 with 1 Axes>"
      ]
     },
     "metadata": {},
     "output_type": "display_data"
    }
   ],
   "source": [
    "import math\n",
    "Ptx =  22\n",
    "n = 6\n",
    "\n",
    "d_vincenty = Eval_geoloc(df_train['bs_lat'] , df_train['bs_lng'], df_train['lat'], df_train['lng'])\n",
    "plt.scatter(d_vincenty, 10 ** (((Ptx - df_train['rssi'])) / (10 * n)), c = df_train['rssi'])\n",
    "plt.show()"
   ]
  },
  {
   "cell_type": "markdown",
   "metadata": {},
   "source": [
    "#### Feature engineering"
   ]
  },
  {
   "cell_type": "markdown",
   "metadata": {},
   "source": [
    "In this section, we will focus on how to highlight the features of the model."
   ]
  },
  {
   "cell_type": "markdown",
   "metadata": {},
   "source": [
    "For that, we need some methods and information :"
   ]
  },
  {
   "cell_type": "markdown",
   "metadata": {},
   "source": [
    "** List of base stations both in training and in test dataset **"
   ]
  },
  {
   "cell_type": "code",
   "execution_count": 6,
   "metadata": {
    "ExecuteTime": {
     "end_time": "2018-12-24T19:11:15.069926Z",
     "start_time": "2018-12-24T19:11:15.058003Z"
    }
   },
   "outputs": [],
   "source": [
    "listOfBs = np.union1d(np.unique(df_mess_train['bsid']), np.unique(df_mess_test['bsid'])) # determine all Base stations that received at least 1 message"
   ]
  },
  {
   "cell_type": "code",
   "execution_count": 7,
   "metadata": {
    "ExecuteTime": {
     "end_time": "2018-12-24T19:11:16.496963Z",
     "start_time": "2018-12-24T19:11:16.488982Z"
    }
   },
   "outputs": [
    {
     "data": {
      "text/plain": [
       "259"
      ]
     },
     "execution_count": 7,
     "metadata": {},
     "output_type": "execute_result"
    }
   ],
   "source": [
    "len(listOfBs)"
   ]
  },
  {
   "cell_type": "markdown",
   "metadata": {},
   "source": [
    "** Feature engineering based on base stations latitude and longitude **"
   ]
  },
  {
   "cell_type": "code",
   "execution_count": 8,
   "metadata": {
    "ExecuteTime": {
     "end_time": "2018-12-24T19:11:10.399537Z",
     "start_time": "2018-12-24T19:11:10.391558Z"
    }
   },
   "outputs": [],
   "source": [
    "def feature_engineering(df):\n",
    "    df[\"rot45X\"] = .707* df[\"bs_lng\"] + .707* df[\"bs_lat\"] \n",
    "    df[\"rot45Y\"] = .707* df[\"bs_lng\"] - .707* df[\"bs_lat\"]\n",
    "\n",
    "    df[\"rot30X\"] = (1.732/2)* df[\"bs_lat\"] + (1./2)* df[\"bs_lng\"]\n",
    "    df[\"rot30Y\"] = (1.732/2)* df[\"bs_lng\"] - (1./2)* df[\"bs_lat\"]\n",
    "\n",
    "    df[\"rot60X\"] = (1./2)* df[\"bs_lat\"] + (1.732/2)* df[\"bs_lng\"] \n",
    "    df[\"rot60Y\"] = (1./2)* df[\"bs_lng\"] - (1.732/2)* df[\"bs_lat\"]\n",
    "\n",
    "    df[\"radial_r\"] = np.sqrt( np.power(df[\"bs_lng\"],2) + np.power(df[\"bs_lat\"],2) )"
   ]
  },
  {
   "cell_type": "markdown",
   "metadata": {},
   "source": [
    "Now, we try to build a feature matrix based on:\n",
    "\n",
    "- Feature engineering of information of base station latitude and longitude\n",
    "- Fingerprint method based on RSSI values by message\n",
    "- The distance between a device and a base station  based on RSSI values\n",
    "- The nseq values rounded "
   ]
  },
  {
   "cell_type": "code",
   "execution_count": 9,
   "metadata": {
    "ExecuteTime": {
     "end_time": "2018-12-24T19:11:21.322154Z",
     "start_time": "2018-12-24T19:11:21.310061Z"
    }
   },
   "outputs": [],
   "source": [
    "# Feature Matrix construction \n",
    "def apply_on_array(a, word):\n",
    "    add = lambda t: str(t) + word\n",
    "    add_func = np.vectorize(add)\n",
    "    result = add_func(a)\n",
    "    return result\n",
    "\n",
    "def feat_mat_const(df_mess_train, listOfBs):\n",
    "    \n",
    "    df_mess_bs_group = df_mess_train.groupby(['messid'], as_index=False) # group data by message (messid)\n",
    "    nb_mess = len(np.unique(df_mess_train['messid']))\n",
    "        \n",
    "    rssi = apply_on_array(listOfBs, '_rssi')    \n",
    "    # Initialize the dataframe by -200 values for RSSI matrix\n",
    "    df_feat = pd.DataFrame(data = -200, index=np.arange(nb_mess) ,columns = rssi) # feature matrix\n",
    "    idx = 0\n",
    "    Ptx =  22\n",
    "    n = 6\n",
    "    # add the values of rssi for each message and within each base station\n",
    "    for key, elmt in df_mess_bs_group:\n",
    "        df_grouped = df_mess_bs_group.get_group(key)        \n",
    "        column_bsid_rssi = apply_on_array(df_grouped['bsid'], '_rssi')\n",
    "        df_feat.loc[idx, column_bsid_rssi] \\\n",
    "         =  df_grouped['rssi'].values \n",
    "        \n",
    "        idx = idx + 1\n",
    "    \n",
    "    # Mean of time_ux by message\n",
    "    df_feat['time_ux'] =df_mess_bs_group.mean()[['time_ux']]\n",
    "    \n",
    "    # Mean of base latitude by message\n",
    "    df_feat['bs_lat'] = df_mess_bs_group.mean()[['bs_lat']]\n",
    "    \n",
    "    # Mean of base longitude by message\n",
    "    df_feat['bs_lng'] = df_mess_bs_group.mean()[['bs_lng']]\n",
    "    \n",
    "    # Rounded mean of nseq by message\n",
    "    df_feat['nseq'] = round(df_mess_bs_group.mean()[['nseq']])\n",
    "    \n",
    "    # Feature engineering of base station latitude and longitude\n",
    "    feature_engineering(df_feat)\n",
    "     \n",
    "    # Distance based on RSSI mean\n",
    "    RSSI = df_mess_bs_group.mean()[['rssi']]\n",
    "    df_feat[\"d\"] = 10 ** (((Ptx - RSSI)) / (10 * n))\n",
    "   \n",
    "    return df_feat\n"
   ]
  },
  {
   "cell_type": "markdown",
   "metadata": {},
   "source": [
    "Now we apply the feature engineering on the training dataset"
   ]
  },
  {
   "cell_type": "code",
   "execution_count": 13,
   "metadata": {
    "ExecuteTime": {
     "end_time": "2018-12-24T19:12:03.510484Z",
     "start_time": "2018-12-24T19:11:26.396716Z"
    }
   },
   "outputs": [
    {
     "ename": "TypeError",
     "evalue": "a float is required",
     "output_type": "error",
     "traceback": [
      "\u001b[0;31m\u001b[0m",
      "\u001b[0;31mTypeError\u001b[0mTraceback (most recent call last)",
      "\u001b[0;32m<ipython-input-13-773f28ae96b4>\u001b[0m in \u001b[0;36m<module>\u001b[0;34m()\u001b[0m\n\u001b[0;32m----> 1\u001b[0;31m \u001b[0mdf_feat\u001b[0m \u001b[0;34m=\u001b[0m \u001b[0mfeat_mat_const\u001b[0m\u001b[0;34m(\u001b[0m\u001b[0mdf_train\u001b[0m\u001b[0;34m,\u001b[0m \u001b[0mlistOfBs\u001b[0m \u001b[0;34m)\u001b[0m\u001b[0;34m\u001b[0m\u001b[0m\n\u001b[0m",
      "\u001b[0;32m<ipython-input-9-4ad3cb6b4b9a>\u001b[0m in \u001b[0;36mfeat_mat_const\u001b[0;34m(df_mess_train, listOfBs)\u001b[0m\n\u001b[1;32m     35\u001b[0m \u001b[0;34m\u001b[0m\u001b[0m\n\u001b[1;32m     36\u001b[0m     \u001b[0;31m# Rounded mean of nseq by message\u001b[0m\u001b[0;34m\u001b[0m\u001b[0;34m\u001b[0m\u001b[0m\n\u001b[0;32m---> 37\u001b[0;31m     \u001b[0mdf_feat\u001b[0m\u001b[0;34m[\u001b[0m\u001b[0;34m'nseq'\u001b[0m\u001b[0;34m]\u001b[0m \u001b[0;34m=\u001b[0m \u001b[0mround\u001b[0m\u001b[0;34m(\u001b[0m\u001b[0mdf_mess_bs_group\u001b[0m\u001b[0;34m.\u001b[0m\u001b[0mmean\u001b[0m\u001b[0;34m(\u001b[0m\u001b[0;34m)\u001b[0m\u001b[0;34m[\u001b[0m\u001b[0;34m[\u001b[0m\u001b[0;34m'nseq'\u001b[0m\u001b[0;34m]\u001b[0m\u001b[0;34m]\u001b[0m\u001b[0;34m)\u001b[0m\u001b[0;34m\u001b[0m\u001b[0m\n\u001b[0m\u001b[1;32m     38\u001b[0m \u001b[0;34m\u001b[0m\u001b[0m\n\u001b[1;32m     39\u001b[0m     \u001b[0;31m# Feature engineering of base station latitude and longitude\u001b[0m\u001b[0;34m\u001b[0m\u001b[0;34m\u001b[0m\u001b[0m\n",
      "\u001b[0;31mTypeError\u001b[0m: a float is required"
     ]
    }
   ],
   "source": [
    "df_feat = feat_mat_const(df_train, listOfBs )"
   ]
  },
  {
   "cell_type": "code",
   "execution_count": null,
   "metadata": {
    "ExecuteTime": {
     "end_time": "2018-12-24T19:12:06.137791Z",
     "start_time": "2018-12-24T19:12:06.097771Z"
    }
   },
   "outputs": [],
   "source": [
    "df_feat.head()"
   ]
  },
  {
   "cell_type": "markdown",
   "metadata": {},
   "source": [
    "We also get the output vectors for the true device positions "
   ]
  },
  {
   "cell_type": "code",
   "execution_count": 37,
   "metadata": {
    "ExecuteTime": {
     "end_time": "2018-12-24T19:12:10.295644Z",
     "start_time": "2018-12-24T19:12:10.290535Z"
    }
   },
   "outputs": [],
   "source": [
    "# ground truth construction\n",
    "\n",
    "def ground_truth_const(df_mess_train, pos_train):\n",
    "    df_mess_pos = df_mess_train.copy()\n",
    "    df_mess_pos[['lat', 'lng']] = pos_train\n",
    "\n",
    "    ground_truth_lat = np.array(df_mess_pos.groupby(['messid']).mean()['lat'])\n",
    "    ground_truth_lng = np.array(df_mess_pos.groupby(['messid']).mean()['lng'])\n",
    "    \n",
    "    return ground_truth_lat, ground_truth_lng"
   ]
  },
  {
   "cell_type": "code",
   "execution_count": 38,
   "metadata": {
    "ExecuteTime": {
     "end_time": "2018-12-24T19:12:15.029727Z",
     "start_time": "2018-12-24T19:12:14.972744Z"
    }
   },
   "outputs": [],
   "source": [
    "ground_truth_lat, ground_truth_lng = ground_truth_const(df_train.iloc[:,:-3], df_train[['lat','lng']])"
   ]
  },
  {
   "cell_type": "markdown",
   "metadata": {},
   "source": [
    "### Model construction"
   ]
  },
  {
   "cell_type": "markdown",
   "metadata": {
    "collapsed": true
   },
   "source": [
    "In this section, we build a model to train on the supervised data set.\n",
    "We are using a machine learning algorithm based on AdaBoostRegressor with a random forest regressor.\n",
    "\n",
    "The random forest algorithm is an algorithm easy to use and allows to tune randomized decision trees and take the average model.\n",
    "The use of this algorithm can be risky as it can result in overfitting. That's why, to reduce overfitting, adaboost algorithm can be used as it adds weights into randomized decision trees, more weights to good regressors and less weight for the others."
   ]
  },
  {
   "cell_type": "code",
   "execution_count": 49,
   "metadata": {
    "ExecuteTime": {
     "end_time": "2018-12-24T19:14:34.808244Z",
     "start_time": "2018-12-24T19:14:34.802261Z"
    }
   },
   "outputs": [],
   "source": [
    "# Function for training and prediction\n",
    "def regressor_and_predict(df_feat, ground_truth_lat, ground_truth_lng, df_test):\n",
    "    \n",
    "    # train regressor and make prediction in the train set\n",
    "    # Input: df_feat: feature matrix used to train regressor\n",
    "    #        ground_truth_lat: df_feat associated latitude\n",
    "    #        ground_truth_lng: df_feat associated longitude\n",
    "    #        df_test: data frame used for prediction\n",
    "    # Output: y_pred_lat, y_pred_lng\n",
    "    from sklearn import linear_model\n",
    "    from sklearn.ensemble import RandomForestRegressor, ExtraTreesRegressor\n",
    "    from sklearn.ensemble import AdaBoostRegressor\n",
    "    X_train = np.array(df_feat);\n",
    "    reg = AdaBoostRegressor(RandomForestRegressor(),\n",
    "                            n_estimators=1000)\n",
    "    reg.fit(X_train, ground_truth_lat);\n",
    "    y_pred_lat = reg.predict(df_test) \n",
    "\n",
    "    reg.fit(X_train, ground_truth_lng);\n",
    "    y_pred_lng = reg.predict(df_test) \n",
    "    \n",
    "    return y_pred_lat, y_pred_lng, reg\n",
    "\n"
   ]
  },
  {
   "cell_type": "markdown",
   "metadata": {},
   "source": [
    "#### Apply the model on training dataset"
   ]
  },
  {
   "cell_type": "markdown",
   "metadata": {},
   "source": [
    "We start by evaluating the model on all the training data set provided."
   ]
  },
  {
   "cell_type": "code",
   "execution_count": 1987,
   "metadata": {
    "ExecuteTime": {
     "end_time": "2018-12-21T09:09:34.763900Z",
     "start_time": "2018-12-21T08:18:13.684556Z"
    }
   },
   "outputs": [],
   "source": [
    "# Make regressor and prediction using the train set\n",
    "y_pred_lat, y_pred_lng, reg = regressor_and_predict(df_feat, ground_truth_lat, ground_truth_lng, df_feat)"
   ]
  },
  {
   "cell_type": "markdown",
   "metadata": {
    "collapsed": true
   },
   "source": [
    "Explore the importance of the features in our feature matrix."
   ]
  },
  {
   "cell_type": "code",
   "execution_count": 1995,
   "metadata": {
    "ExecuteTime": {
     "end_time": "2018-12-21T10:01:39.263067Z",
     "start_time": "2018-12-21T10:01:37.236517Z"
    }
   },
   "outputs": [
    {
     "name": "stdout",
     "output_type": "stream",
     "text": [
      "Feature ranking:\n",
      "1. feature rot30X (0.143117)\n",
      "2. feature bs_lat (0.140948)\n",
      "3. feature radial_r (0.139315)\n",
      "4. feature rot60Y (0.136732)\n",
      "5. feature bs_lng (0.123115)\n",
      "6. feature rot45Y (0.120916)\n",
      "7. feature rot30Y (0.115249)\n",
      "8. feature rot60X (0.065078)\n",
      "9. feature time_ux (0.004645)\n",
      "10. feature rot45X (0.003143)\n",
      "11. feature d (0.001674)\n",
      "12. feature 1828_rssi (0.000323)\n",
      "13. feature 4790_rssi (0.000298)\n",
      "14. feature 3629_rssi (0.000270)\n",
      "15. feature nseq (0.000264)\n",
      "16. feature 1872_rssi (0.000207)\n",
      "17. feature 3613_rssi (0.000190)\n",
      "18. feature 4024_rssi (0.000172)\n",
      "19. feature 8473_rssi (0.000168)\n",
      "20. feature 980_rssi (0.000166)\n",
      "21. feature 4058_rssi (0.000155)\n",
      "22. feature 8245_rssi (0.000149)\n",
      "23. feature 1859_rssi (0.000141)\n",
      "24. feature 2610_rssi (0.000134)\n",
      "25. feature 1012_rssi (0.000110)\n",
      "26. feature 7382_rssi (0.000109)\n",
      "27. feature 2737_rssi (0.000105)\n",
      "28. feature 1878_rssi (0.000097)\n",
      "29. feature 3526_rssi (0.000096)\n",
      "30. feature 3562_rssi (0.000095)\n",
      "31. feature 1476_rssi (0.000094)\n",
      "32. feature 7807_rssi (0.000090)\n",
      "33. feature 1534_rssi (0.000083)\n",
      "34. feature 3403_rssi (0.000078)\n",
      "35. feature 3051_rssi (0.000076)\n",
      "36. feature 3386_rssi (0.000076)\n",
      "37. feature 2846_rssi (0.000066)\n",
      "38. feature 1187_rssi (0.000063)\n",
      "39. feature 11007_rssi (0.000062)\n",
      "40. feature 7857_rssi (0.000060)\n",
      "41. feature 8470_rssi (0.000058)\n",
      "42. feature 1530_rssi (0.000057)\n",
      "43. feature 8446_rssi (0.000056)\n",
      "44. feature 3578_rssi (0.000052)\n",
      "45. feature 3548_rssi (0.000052)\n",
      "46. feature 2799_rssi (0.000051)\n",
      "47. feature 3846_rssi (0.000049)\n",
      "48. feature 8226_rssi (0.000046)\n",
      "49. feature 2790_rssi (0.000046)\n",
      "50. feature 8364_rssi (0.000042)\n",
      "51. feature 8355_rssi (0.000042)\n",
      "52. feature 3570_rssi (0.000042)\n",
      "53. feature 2605_rssi (0.000041)\n",
      "54. feature 7692_rssi (0.000034)\n",
      "55. feature 8397_rssi (0.000034)\n",
      "56. feature 8390_rssi (0.000034)\n",
      "57. feature 1988_rssi (0.000033)\n",
      "58. feature 1661_rssi (0.000033)\n",
      "59. feature 3025_rssi (0.000033)\n",
      "60. feature 3410_rssi (0.000032)\n",
      "61. feature 2189_rssi (0.000032)\n",
      "62. feature 3547_rssi (0.000032)\n",
      "63. feature 4078_rssi (0.000030)\n",
      "64. feature 8472_rssi (0.000030)\n",
      "65. feature 3569_rssi (0.000030)\n",
      "66. feature 8474_rssi (0.000030)\n",
      "67. feature 4064_rssi (0.000030)\n",
      "68. feature 8370_rssi (0.000029)\n",
      "69. feature 2617_rssi (0.000029)\n",
      "70. feature 3572_rssi (0.000029)\n",
      "71. feature 3500_rssi (0.000028)\n",
      "72. feature 1264_rssi (0.000028)\n",
      "73. feature 1268_rssi (0.000024)\n",
      "74. feature 8746_rssi (0.000024)\n",
      "75. feature 7738_rssi (0.000024)\n",
      "76. feature 3581_rssi (0.000023)\n",
      "77. feature 3579_rssi (0.000021)\n",
      "78. feature 2842_rssi (0.000020)\n",
      "79. feature 2831_rssi (0.000020)\n",
      "80. feature 8352_rssi (0.000020)\n",
      "81. feature 8356_rssi (0.000020)\n",
      "82. feature 4056_rssi (0.000020)\n",
      "83. feature 4059_rssi (0.000019)\n",
      "84. feature 4966_rssi (0.000019)\n",
      "85. feature 4157_rssi (0.000018)\n",
      "86. feature 3414_rssi (0.000018)\n",
      "87. feature 10151_rssi (0.000016)\n",
      "88. feature 3527_rssi (0.000016)\n",
      "89. feature 3385_rssi (0.000016)\n",
      "90. feature 3402_rssi (0.000016)\n",
      "91. feature 10162_rssi (0.000015)\n",
      "92. feature 2999_rssi (0.000015)\n",
      "93. feature 7726_rssi (0.000015)\n",
      "94. feature 1526_rssi (0.000015)\n",
      "95. feature 1796_rssi (0.000014)\n",
      "96. feature 8437_rssi (0.000013)\n",
      "97. feature 4993_rssi (0.000013)\n",
      "98. feature 3256_rssi (0.000013)\n",
      "99. feature 2784_rssi (0.000012)\n",
      "100. feature 2707_rssi (0.000012)\n",
      "101. feature 8384_rssi (0.000012)\n",
      "102. feature 1344_rssi (0.000012)\n",
      "103. feature 7789_rssi (0.000011)\n",
      "104. feature 3563_rssi (0.000011)\n",
      "105. feature 4147_rssi (0.000011)\n",
      "106. feature 7456_rssi (0.000011)\n",
      "107. feature 3554_rssi (0.000010)\n",
      "108. feature 3529_rssi (0.000009)\n",
      "109. feature 2841_rssi (0.000009)\n",
      "110. feature 8453_rssi (0.000009)\n",
      "111. feature 3545_rssi (0.000009)\n",
      "112. feature 1594_rssi (0.000009)\n",
      "113. feature 3538_rssi (0.000008)\n",
      "114. feature 3556_rssi (0.000008)\n",
      "115. feature 2693_rssi (0.000008)\n",
      "116. feature 3535_rssi (0.000008)\n",
      "117. feature 3412_rssi (0.000008)\n",
      "118. feature 8452_rssi (0.000007)\n",
      "119. feature 9899_rssi (0.000007)\n",
      "120. feature 3558_rssi (0.000006)\n",
      "121. feature 1743_rssi (0.000006)\n",
      "122. feature 1432_rssi (0.000006)\n",
      "123. feature 4244_rssi (0.000006)\n",
      "124. feature 4987_rssi (0.000006)\n",
      "125. feature 8451_rssi (0.000006)\n",
      "126. feature 1463_rssi (0.000005)\n",
      "127. feature 4819_rssi (0.000005)\n",
      "128. feature 2776_rssi (0.000005)\n",
      "129. feature 3907_rssi (0.000005)\n",
      "130. feature 3565_rssi (0.000005)\n",
      "131. feature 8450_rssi (0.000005)\n",
      "132. feature 8392_rssi (0.000005)\n",
      "133. feature 3553_rssi (0.000004)\n",
      "134. feature 9784_rssi (0.000004)\n",
      "135. feature 911_rssi (0.000004)\n",
      "136. feature 2855_rssi (0.000004)\n",
      "137. feature 3574_rssi (0.000004)\n",
      "138. feature 1852_rssi (0.000004)\n",
      "139. feature 8509_rssi (0.000004)\n",
      "140. feature 11951_rssi (0.000004)\n",
      "141. feature 2837_rssi (0.000004)\n",
      "142. feature 2731_rssi (0.000004)\n",
      "143. feature 921_rssi (0.000004)\n",
      "144. feature 8560_rssi (0.000003)\n",
      "145. feature 3415_rssi (0.000003)\n",
      "146. feature 2762_rssi (0.000003)\n",
      "147. feature 8475_rssi (0.000003)\n",
      "148. feature 4092_rssi (0.000003)\n",
      "149. feature 8082_rssi (0.000003)\n",
      "150. feature 1741_rssi (0.000003)\n",
      "151. feature 1996_rssi (0.000003)\n",
      "152. feature 7435_rssi (0.000002)\n",
      "153. feature 3575_rssi (0.000002)\n",
      "154. feature 3571_rssi (0.000002)\n",
      "155. feature 3357_rssi (0.000002)\n",
      "156. feature 3559_rssi (0.000002)\n",
      "157. feature 4148_rssi (0.000002)\n",
      "158. feature 2862_rssi (0.000002)\n",
      "159. feature 3544_rssi (0.000002)\n",
      "160. feature 4129_rssi (0.000002)\n",
      "161. feature 1987_rssi (0.000002)\n",
      "162. feature 2775_rssi (0.000001)\n",
      "163. feature 8457_rssi (0.000001)\n",
      "164. feature 4156_rssi (0.000001)\n",
      "165. feature 2943_rssi (0.000001)\n",
      "166. feature 1334_rssi (0.000001)\n",
      "167. feature 3576_rssi (0.000001)\n",
      "168. feature 3536_rssi (0.000001)\n",
      "169. feature 7972_rssi (0.000001)\n",
      "170. feature 8351_rssi (0.000001)\n",
      "171. feature 1994_rssi (0.000001)\n",
      "172. feature 8471_rssi (0.000001)\n",
      "173. feature 8449_rssi (0.000001)\n",
      "174. feature 1086_rssi (0.000001)\n",
      "175. feature 7655_rssi (0.000001)\n",
      "176. feature 4646_rssi (0.000001)\n",
      "177. feature 1772_rssi (0.000001)\n",
      "178. feature 8368_rssi (0.000001)\n",
      "179. feature 7490_rssi (0.000000)\n",
      "180. feature 8426_rssi (0.000000)\n",
      "181. feature 7849_rssi (0.000000)\n",
      "182. feature 3378_rssi (0.000000)\n",
      "183. feature 1229_rssi (0.000000)\n",
      "184. feature 8495_rssi (0.000000)\n",
      "185. feature 4047_rssi (0.000000)\n",
      "186. feature 4996_rssi (0.000000)\n",
      "187. feature 3568_rssi (0.000000)\n",
      "188. feature 3835_rssi (0.000000)\n",
      "189. feature 3546_rssi (0.000000)\n",
      "190. feature 4065_rssi (0.000000)\n",
      "191. feature 7248_rssi (0.000000)\n",
      "192. feature 1854_rssi (0.000000)\n",
      "193. feature 3983_rssi (0.000000)\n",
      "194. feature 3555_rssi (0.000000)\n",
      "195. feature 4205_rssi (0.000000)\n",
      "196. feature 7986_rssi (0.000000)\n",
      "197. feature 1148_rssi (0.000000)\n",
      "198. feature 3389_rssi (0.000000)\n",
      "199. feature 2766_rssi (0.000000)\n",
      "200. feature 944_rssi (0.000000)\n",
      "201. feature 2768_rssi (0.000000)\n",
      "202. feature 8747_rssi (0.000000)\n",
      "203. feature 8371_rssi (0.000000)\n",
      "204. feature 10148_rssi (0.000000)\n",
      "205. feature 1266_rssi (0.000000)\n",
      "206. feature 3515_rssi (0.000000)\n",
      "207. feature 1581_rssi (0.000000)\n",
      "208. feature 4055_rssi (0.000000)\n",
      "209. feature 2293_rssi (0.000000)\n",
      "210. feature 2845_rssi (0.000000)\n",
      "211. feature 1226_rssi (0.000000)\n",
      "212. feature 4105_rssi (0.000000)\n",
      "213. feature 879_rssi (0.000000)\n",
      "214. feature 3041_rssi (0.000000)\n",
      "215. feature 2780_rssi (0.000000)\n",
      "216. feature 2770_rssi (0.000000)\n",
      "217. feature 2849_rssi (0.000000)\n",
      "218. feature 8401_rssi (0.000000)\n",
      "219. feature 1826_rssi (0.000000)\n",
      "220. feature 3915_rssi (0.000000)\n",
      "221. feature 8079_rssi (0.000000)\n",
      "222. feature 10134_rssi (0.000000)\n",
      "223. feature 4088_rssi (0.000000)\n",
      "224. feature 3577_rssi (0.000000)\n",
      "225. feature 1292_rssi (0.000000)\n",
      "226. feature 7378_rssi (0.000000)\n",
      "227. feature 4060_rssi (0.000000)\n",
      "228. feature 2765_rssi (0.000000)\n",
      "229. feature 1120_rssi (0.000000)\n",
      "230. feature 1447_rssi (0.000000)\n",
      "231. feature 1235_rssi (0.000000)\n",
      "232. feature 1156_rssi (0.000000)\n",
      "233. feature 8442_rssi (0.000000)\n",
      "234. feature 4073_rssi (0.000000)\n",
      "235. feature 4049_rssi (0.000000)\n",
      "236. feature 2945_rssi (0.000000)\n",
      "237. feature 3646_rssi (0.000000)\n",
      "238. feature 1971_rssi (0.000000)\n",
      "239. feature 1092_rssi (0.000000)\n",
      "240. feature 10999_rssi (0.000000)\n",
      "241. feature 4959_rssi (0.000000)\n",
      "242. feature 8242_rssi (0.000000)\n",
      "243. feature 7673_rssi (0.000000)\n",
      "244. feature 8405_rssi (0.000000)\n",
      "245. feature 7628_rssi (0.000000)\n",
      "246. feature 3549_rssi (0.000000)\n",
      "247. feature 2611_rssi (0.000000)\n",
      "248. feature 1237_rssi (0.000000)\n",
      "249. feature 4123_rssi (0.000000)\n",
      "250. feature 1838_rssi (0.000000)\n",
      "251. feature 2836_rssi (0.000000)\n",
      "252. feature 4813_rssi (0.000000)\n",
      "253. feature 1131_rssi (0.000000)\n",
      "254. feature 2803_rssi (0.000000)\n",
      "255. feature 3501_rssi (0.000000)\n",
      "256. feature 3630_rssi (0.000000)\n",
      "257. feature 8168_rssi (0.000000)\n",
      "258. feature 9949_rssi (0.000000)\n",
      "259. feature 3828_rssi (0.000000)\n",
      "260. feature 1730_rssi (0.000000)\n",
      "261. feature 1443_rssi (0.000000)\n",
      "262. feature 3848_rssi (0.000000)\n",
      "263. feature 2808_rssi (0.000000)\n",
      "264. feature 3933_rssi (0.000000)\n",
      "265. feature 4013_rssi (0.000000)\n",
      "266. feature 2800_rssi (0.000000)\n",
      "267. feature 9936_rssi (0.000000)\n",
      "268. feature 7508_rssi (0.000000)\n",
      "269. feature 9783_rssi (0.000000)\n",
      "270. feature 3034_rssi (0.000000)\n",
      "271. feature 9941_rssi (0.000000)\n"
     ]
    }
   ],
   "source": [
    "importances = reg.feature_importances_\n",
    "std = np.std([tree.feature_importances_ for tree in reg.estimators_],\n",
    "             axis=0)\n",
    "indices = np.argsort(importances)[::-1]\n",
    "\n",
    "# Print the feature ranking\n",
    "print(\"Feature ranking:\")\n",
    "\n",
    "for f in range(df_feat.shape[1]):\n",
    "    print(\"%d. feature %s (%f)\" % (f + 1, df_feat.columns[int(indices[f])], importances[indices[f]]))"
   ]
  },
  {
   "cell_type": "markdown",
   "metadata": {},
   "source": [
    "Let's now evaluate the precision of this model based only on the training set."
   ]
  },
  {
   "cell_type": "code",
   "execution_count": 2001,
   "metadata": {
    "ExecuteTime": {
     "end_time": "2018-12-21T10:14:11.824664Z",
     "start_time": "2018-12-21T10:14:11.515519Z"
    }
   },
   "outputs": [
    {
     "name": "stderr",
     "output_type": "stream",
     "text": [
      "C:\\Users\\hmann\\Anaconda3\\lib\\site-packages\\ipykernel_launcher.py:6: DeprecationWarning: Vincenty is deprecated and is going to be removed in geopy 2.0. Use `geopy.distance.geodesic` (or the default `geopy.distance.distance`) instead, which is more accurate and always converges.\n",
      "  \n"
     ]
    },
    {
     "name": "stdout",
     "output_type": "stream",
     "text": [
      "The precision on the training set is  652.5737025145686\n"
     ]
    }
   ],
   "source": [
    "err_vec = Eval_geoloc(ground_truth_lat , ground_truth_lng, y_pred_lat, y_pred_lng)\n",
    "# Error criterion\n",
    "print(\"The precision on the training set is \", np.percentile(err_vec, 80))"
   ]
  },
  {
   "cell_type": "markdown",
   "metadata": {},
   "source": [
    "We get a good estimation up to 600 meters"
   ]
  },
  {
   "cell_type": "markdown",
   "metadata": {},
   "source": [
    "#### Cross validation of the model"
   ]
  },
  {
   "cell_type": "code",
   "execution_count": 136,
   "metadata": {
    "collapsed": true
   },
   "outputs": [],
   "source": [
    "# Cross validation"
   ]
  },
  {
   "cell_type": "code",
   "execution_count": 2102,
   "metadata": {
    "ExecuteTime": {
     "end_time": "2018-12-24T09:55:54.948648Z",
     "start_time": "2018-12-23T11:03:17.331946Z"
    }
   },
   "outputs": [],
   "source": [
    "from sklearn.model_selection import cross_val_predict\n",
    "from sklearn.ensemble import RandomForestRegressor, ExtraTreesRegressor\n",
    "from sklearn.ensemble import AdaBoostRegressor\n",
    "reg = AdaBoostRegressor(RandomForestRegressor(),\n",
    "                            n_estimators=1000)#\n",
    "y_pred_lng = cross_val_predict(reg, df_feat, ground_truth_lng, cv=10)\n",
    "y_pred_lat = cross_val_predict(reg, df_feat, ground_truth_lat, cv=10)"
   ]
  },
  {
   "cell_type": "markdown",
   "metadata": {
    "collapsed": true
   },
   "source": [
    "Let's now evaluate the error, on the cross validation"
   ]
  },
  {
   "cell_type": "code",
   "execution_count": 2106,
   "metadata": {
    "ExecuteTime": {
     "end_time": "2018-12-24T09:56:50.440039Z",
     "start_time": "2018-12-24T09:56:50.259480Z"
    }
   },
   "outputs": [
    {
     "data": {
      "image/png": "[encoded data removed]",
      "text/plain": [
       "<Figure size 432x288 with 1 Axes>"
      ]
     },
     "metadata": {},
     "output_type": "display_data"
    }
   ],
   "source": [
    "# Plot error distribution\n",
    "values, base = np.histogram(err_vec, bins=50000)\n",
    "cumulative = np.cumsum(values) \n",
    "plt.figure();\n",
    "plt.plot(base[:-1]/1000, cumulative / np.float(np.sum(values))  * 100.0, c='blue')\n",
    "plt.grid(); plt.xlabel('Distance Error (km)'); plt.ylabel('Cum proba (%)'); plt.axis([0, 30, 0, 100]); \n",
    "plt.title('Error Cumulative Probability'); plt.legend( [\"Opt LLR\", \"LLR 95\", \"LLR 99\"])\n",
    "plt.show()"
   ]
  },
  {
   "cell_type": "code",
   "execution_count": 2107,
   "metadata": {
    "ExecuteTime": {
     "end_time": "2018-12-24T09:56:55.527905Z",
     "start_time": "2018-12-24T09:56:55.294520Z"
    }
   },
   "outputs": [
    {
     "name": "stdout",
     "output_type": "stream",
     "text": [
      "The precision with cross validation on the training set is  3224.5836482054124\n"
     ]
    },
    {
     "name": "stderr",
     "output_type": "stream",
     "text": [
      "C:\\Users\\hmann\\Anaconda3\\lib\\site-packages\\ipykernel_launcher.py:6: DeprecationWarning: Vincenty is deprecated and is going to be removed in geopy 2.0. Use `geopy.distance.geodesic` (or the default `geopy.distance.distance`) instead, which is more accurate and always converges.\n",
      "  \n"
     ]
    }
   ],
   "source": [
    "err_vec = Eval_geoloc(ground_truth_lat , ground_truth_lng, y_pred_lat, y_pred_lng)\n",
    "# Error criterion\n",
    "print(\"The precision with cross validation on the training set is \", np.percentile(err_vec, 80))"
   ]
  },
  {
   "cell_type": "markdown",
   "metadata": {
    "ExecuteTime": {
     "end_time": "2018-12-21T09:39:33.975715Z",
     "start_time": "2018-12-21T09:39:33.592740Z"
    }
   },
   "source": [
    "We have predicted with cross validation with a precision error of  3,2km"
   ]
  },
  {
   "cell_type": "markdown",
   "metadata": {
    "collapsed": true
   },
   "source": [
    "### Construct test prediction"
   ]
  },
  {
   "cell_type": "markdown",
   "metadata": {},
   "source": [
    "#### Data exploration"
   ]
  },
  {
   "cell_type": "code",
   "execution_count": 40,
   "metadata": {
    "ExecuteTime": {
     "end_time": "2018-12-24T19:12:38.576282Z",
     "start_time": "2018-12-24T19:12:38.549317Z"
    }
   },
   "outputs": [
    {
     "data": {
      "text/html": [
       "<div>\n",
       "<style scoped>\n",
       "    .dataframe tbody tr th:only-of-type {\n",
       "        vertical-align: middle;\n",
       "    }\n",
       "\n",
       "    .dataframe tbody tr th {\n",
       "        vertical-align: top;\n",
       "    }\n",
       "\n",
       "    .dataframe thead th {\n",
       "        text-align: right;\n",
       "    }\n",
       "</style>\n",
       "<table border=\"1\" class=\"dataframe\">\n",
       "  <thead>\n",
       "    <tr style=\"text-align: right;\">\n",
       "      <th></th>\n",
       "      <th>messid</th>\n",
       "      <th>bsid</th>\n",
       "      <th>did</th>\n",
       "      <th>nseq</th>\n",
       "      <th>rssi</th>\n",
       "      <th>time_ux</th>\n",
       "      <th>bs_lat</th>\n",
       "      <th>bs_lng</th>\n",
       "    </tr>\n",
       "  </thead>\n",
       "  <tbody>\n",
       "    <tr>\n",
       "      <th>0</th>\n",
       "      <td>573be2503e952e191262c351</td>\n",
       "      <td>3578</td>\n",
       "      <td>116539.0</td>\n",
       "      <td>2.0</td>\n",
       "      <td>-111.0</td>\n",
       "      <td>1.463542e+12</td>\n",
       "      <td>39.728651</td>\n",
       "      <td>-105.163032</td>\n",
       "    </tr>\n",
       "    <tr>\n",
       "      <th>1</th>\n",
       "      <td>573c05f83e952e1912758013</td>\n",
       "      <td>2617</td>\n",
       "      <td>472504.0</td>\n",
       "      <td>0.0</td>\n",
       "      <td>-136.0</td>\n",
       "      <td>1.463551e+12</td>\n",
       "      <td>39.779908</td>\n",
       "      <td>-105.062479</td>\n",
       "    </tr>\n",
       "    <tr>\n",
       "      <th>2</th>\n",
       "      <td>573c05f83e952e1912758013</td>\n",
       "      <td>3556</td>\n",
       "      <td>472504.0</td>\n",
       "      <td>0.0</td>\n",
       "      <td>-127.0</td>\n",
       "      <td>1.463551e+12</td>\n",
       "      <td>39.780658</td>\n",
       "      <td>-105.053676</td>\n",
       "    </tr>\n",
       "    <tr>\n",
       "      <th>3</th>\n",
       "      <td>573c05f83e952e1912758013</td>\n",
       "      <td>3578</td>\n",
       "      <td>472504.0</td>\n",
       "      <td>0.0</td>\n",
       "      <td>-129.0</td>\n",
       "      <td>1.463551e+12</td>\n",
       "      <td>39.728651</td>\n",
       "      <td>-105.163032</td>\n",
       "    </tr>\n",
       "    <tr>\n",
       "      <th>4</th>\n",
       "      <td>573c05f83e952e1912758013</td>\n",
       "      <td>4058</td>\n",
       "      <td>472504.0</td>\n",
       "      <td>0.0</td>\n",
       "      <td>-105.0</td>\n",
       "      <td>1.463551e+12</td>\n",
       "      <td>39.783211</td>\n",
       "      <td>-105.088747</td>\n",
       "    </tr>\n",
       "  </tbody>\n",
       "</table>\n",
       "</div>"
      ],
      "text/plain": [
       "                     messid  bsid       did  nseq   rssi       time_ux  \\\n",
       "0  573be2503e952e191262c351  3578  116539.0   2.0 -111.0  1.463542e+12   \n",
       "1  573c05f83e952e1912758013  2617  472504.0   0.0 -136.0  1.463551e+12   \n",
       "2  573c05f83e952e1912758013  3556  472504.0   0.0 -127.0  1.463551e+12   \n",
       "3  573c05f83e952e1912758013  3578  472504.0   0.0 -129.0  1.463551e+12   \n",
       "4  573c05f83e952e1912758013  4058  472504.0   0.0 -105.0  1.463551e+12   \n",
       "\n",
       "      bs_lat      bs_lng  \n",
       "0  39.728651 -105.163032  \n",
       "1  39.779908 -105.062479  \n",
       "2  39.780658 -105.053676  \n",
       "3  39.728651 -105.163032  \n",
       "4  39.783211 -105.088747  "
      ]
     },
     "execution_count": 40,
     "metadata": {},
     "output_type": "execute_result"
    }
   ],
   "source": [
    "df_mess_test.head()"
   ]
  },
  {
   "cell_type": "markdown",
   "metadata": {},
   "source": [
    "We count the number of messages sent to 3 or more station bases."
   ]
  },
  {
   "cell_type": "code",
   "execution_count": 41,
   "metadata": {
    "ExecuteTime": {
     "end_time": "2018-12-24T19:12:42.476372Z",
     "start_time": "2018-12-24T19:12:42.450409Z"
    }
   },
   "outputs": [
    {
     "name": "stdout",
     "output_type": "stream",
     "text": [
      "Messages sent to 3 base stations or more : 60.540234227427284 %\n",
      "Messages sent to less than 3 stations :  39.45976577257272 %\n"
     ]
    }
   ],
   "source": [
    "data = df_mess_test.groupby(\"messid\").count()[\"bsid\"]\n",
    "data_with_3_pos = data[data>=3].count()\n",
    "data_with_3_pos_less = data[data<3].count()\n",
    "\n",
    "print(\"Messages sent to 3 base stations or more :\" ,(data_with_3_pos / data.count() * 100), \"%\")\n",
    "print(\"Messages sent to less than 3 stations : \", (data_with_3_pos_less / data.count() * 100), \"%\")"
   ]
  },
  {
   "cell_type": "code",
   "execution_count": 42,
   "metadata": {
    "ExecuteTime": {
     "end_time": "2018-12-24T19:12:48.181102Z",
     "start_time": "2018-12-24T19:12:45.629893Z"
    }
   },
   "outputs": [
    {
     "data": {
      "image/png": "[encoded data removed]",
      "text/plain": [
       "<Figure size 432x288 with 1 Axes>"
      ]
     },
     "metadata": {},
     "output_type": "display_data"
    }
   ],
   "source": [
    "# explore data : for each message, display corresponding bases\n",
    "plt.scatter(df_mess_test['bs_lat'], df_mess_test['bs_lng'], c = df_mess_test['rssi'])\n",
    "plt.title(\"Positions of base stations by rssi degree\")\n",
    "plt.xlabel(\"Base station latitude\")\n",
    "plt.ylabel(\"Base station longitude\")\n",
    "plt.show()"
   ]
  },
  {
   "cell_type": "markdown",
   "metadata": {},
   "source": [
    "We notice that there are some base stations  located very far from other base stations. Let's explore their positions and if they correspond to base stations already dealt with in the training dataset."
   ]
  },
  {
   "cell_type": "code",
   "execution_count": 43,
   "metadata": {
    "ExecuteTime": {
     "end_time": "2018-12-24T19:12:58.230385Z",
     "start_time": "2018-12-24T19:12:51.899240Z"
    }
   },
   "outputs": [],
   "source": [
    "idx_60_train = df_mess_train.index[df_mess_train['bs_lat'] > 60].tolist()\n",
    "base_stations_60_train = df_mess_train.loc[idx_60_train, 'bsid']\n",
    "\n",
    "idx_60_test = df_mess_test.index[df_mess_test['bs_lat'] > 60].tolist()\n",
    "base_stations_60_test = df_mess_test.loc[idx_60_test, 'bsid']\n",
    "\n",
    "bases_to_correct = set(base_stations_60_train) & set(base_stations_60_test)\n",
    "indexes_to_correct = df_mess_test.index[df_mess_test['bsid'].isin(bases_to_correct)].tolist()\n",
    "\n",
    "bases_outliner_60 =  df_mess_test.loc[indexes_to_correct,'bsid'].unique()\n",
    "# for each message, adjust the value of base lat and lng to nearest base stations by rssi value\n",
    "for base in bases_outliner_60:    \n",
    "    correct_value = df_train[df_train['bsid'] == base]\n",
    "    false_values_indexes = df_mess_test.index[df_mess_test['bsid'] == base].tolist()\n",
    "    for idx in false_values_indexes:\n",
    "        df_mess_test.loc[idx,'bs_lat'] = correct_value['bs_lat'].mean()\n",
    "        df_mess_test.loc[idx,'bs_lng'] = correct_value['bs_lng'].mean()\n",
    "    "
   ]
  },
  {
   "cell_type": "markdown",
   "metadata": {},
   "source": [
    "Let's see how readjusting these values modified the locations of base stations."
   ]
  },
  {
   "cell_type": "code",
   "execution_count": 44,
   "metadata": {
    "ExecuteTime": {
     "end_time": "2018-12-24T19:13:02.911324Z",
     "start_time": "2018-12-24T19:13:00.433954Z"
    }
   },
   "outputs": [
    {
     "data": {
      "image/png": "[encoded data removed]",
      "text/plain": [
       "<Figure size 432x288 with 1 Axes>"
      ]
     },
     "metadata": {},
     "output_type": "display_data"
    }
   ],
   "source": [
    "# explore data : for each message, display corresponding bases\n",
    "plt.scatter(df_mess_test['bs_lat'], df_mess_test['bs_lng'], c = df_mess_test['rssi'])\n",
    "plt.title(\"Positions of base stations by rssi degree\")\n",
    "plt.xlabel(\"Base station latitude\")\n",
    "plt.ylabel(\"Base station longitude\")\n",
    "plt.show()"
   ]
  },
  {
   "cell_type": "markdown",
   "metadata": {},
   "source": [
    "Some base stations are still very far from the others. Let's see how many and how many messages there are sent to them."
   ]
  },
  {
   "cell_type": "code",
   "execution_count": 45,
   "metadata": {
    "ExecuteTime": {
     "end_time": "2018-12-24T19:13:06.336876Z",
     "start_time": "2018-12-24T19:13:06.324945Z"
    }
   },
   "outputs": [
    {
     "name": "stdout",
     "output_type": "stream",
     "text": [
      "There are  2 left and  5 messages sent to them\n"
     ]
    }
   ],
   "source": [
    "idx_60_test = df_mess_test.index[df_mess_test['bs_lat'] > 60].tolist()\n",
    "base_stations_60_test = df_mess_test.loc[idx_60_test, 'bsid']\n",
    "\n",
    "print('There are ', len(set(base_stations_60_test)), 'left and ',\\\n",
    "      len(set(idx_60_test)), 'messages sent to them')"
   ]
  },
  {
   "cell_type": "markdown",
   "metadata": {},
   "source": [
    "We leave these 5 messages for now."
   ]
  },
  {
   "cell_type": "markdown",
   "metadata": {},
   "source": [
    "#### Feature engineering and prediction on test dataset"
   ]
  },
  {
   "cell_type": "code",
   "execution_count": 46,
   "metadata": {
    "ExecuteTime": {
     "end_time": "2018-12-24T19:13:39.382305Z",
     "start_time": "2018-12-24T19:13:10.358840Z"
    }
   },
   "outputs": [],
   "source": [
    "# Feature engineering\n",
    "df_feat_test = feat_mat_const(df_mess_test, listOfBs)"
   ]
  },
  {
   "cell_type": "code",
   "execution_count": 47,
   "metadata": {
    "ExecuteTime": {
     "end_time": "2018-12-24T19:13:55.908428Z",
     "start_time": "2018-12-24T19:13:55.872148Z"
    }
   },
   "outputs": [
    {
     "data": {
      "text/html": [
       "<div>\n",
       "<style scoped>\n",
       "    .dataframe tbody tr th:only-of-type {\n",
       "        vertical-align: middle;\n",
       "    }\n",
       "\n",
       "    .dataframe tbody tr th {\n",
       "        vertical-align: top;\n",
       "    }\n",
       "\n",
       "    .dataframe thead th {\n",
       "        text-align: right;\n",
       "    }\n",
       "</style>\n",
       "<table border=\"1\" class=\"dataframe\">\n",
       "  <thead>\n",
       "    <tr style=\"text-align: right;\">\n",
       "      <th></th>\n",
       "      <th>879_rssi</th>\n",
       "      <th>911_rssi</th>\n",
       "      <th>921_rssi</th>\n",
       "      <th>944_rssi</th>\n",
       "      <th>980_rssi</th>\n",
       "      <th>1012_rssi</th>\n",
       "      <th>1086_rssi</th>\n",
       "      <th>1092_rssi</th>\n",
       "      <th>1120_rssi</th>\n",
       "      <th>1131_rssi</th>\n",
       "      <th>...</th>\n",
       "      <th>bs_lng</th>\n",
       "      <th>nseq</th>\n",
       "      <th>rot45X</th>\n",
       "      <th>rot45Y</th>\n",
       "      <th>rot30X</th>\n",
       "      <th>rot30Y</th>\n",
       "      <th>rot60X</th>\n",
       "      <th>rot60Y</th>\n",
       "      <th>radial_r</th>\n",
       "      <th>d</th>\n",
       "    </tr>\n",
       "  </thead>\n",
       "  <tbody>\n",
       "    <tr>\n",
       "      <th>0</th>\n",
       "      <td>-200</td>\n",
       "      <td>-200</td>\n",
       "      <td>-200</td>\n",
       "      <td>-200</td>\n",
       "      <td>-200</td>\n",
       "      <td>-200.0</td>\n",
       "      <td>-200.0</td>\n",
       "      <td>-200.0</td>\n",
       "      <td>-200</td>\n",
       "      <td>-200.0</td>\n",
       "      <td>...</td>\n",
       "      <td>-105.163032</td>\n",
       "      <td>2.0</td>\n",
       "      <td>-46.262107</td>\n",
       "      <td>-102.438420</td>\n",
       "      <td>-18.176504</td>\n",
       "      <td>-110.935511</td>\n",
       "      <td>-71.206860</td>\n",
       "      <td>-86.986528</td>\n",
       "      <td>112.417209</td>\n",
       "      <td>164.689787</td>\n",
       "    </tr>\n",
       "    <tr>\n",
       "      <th>1</th>\n",
       "      <td>-200</td>\n",
       "      <td>-200</td>\n",
       "      <td>-200</td>\n",
       "      <td>-200</td>\n",
       "      <td>-200</td>\n",
       "      <td>-200.0</td>\n",
       "      <td>-200.0</td>\n",
       "      <td>-200.0</td>\n",
       "      <td>-200</td>\n",
       "      <td>-200.0</td>\n",
       "      <td>...</td>\n",
       "      <td>-105.094321</td>\n",
       "      <td>0.0</td>\n",
       "      <td>-46.188908</td>\n",
       "      <td>-102.414461</td>\n",
       "      <td>-18.111992</td>\n",
       "      <td>-110.893419</td>\n",
       "      <td>-71.129945</td>\n",
       "      <td>-86.982329</td>\n",
       "      <td>112.365253</td>\n",
       "      <td>294.272718</td>\n",
       "    </tr>\n",
       "    <tr>\n",
       "      <th>2</th>\n",
       "      <td>-200</td>\n",
       "      <td>-200</td>\n",
       "      <td>-200</td>\n",
       "      <td>-200</td>\n",
       "      <td>-200</td>\n",
       "      <td>-200.0</td>\n",
       "      <td>-200.0</td>\n",
       "      <td>-200.0</td>\n",
       "      <td>-200</td>\n",
       "      <td>-200.0</td>\n",
       "      <td>...</td>\n",
       "      <td>-105.028319</td>\n",
       "      <td>2.0</td>\n",
       "      <td>-46.210932</td>\n",
       "      <td>-102.299111</td>\n",
       "      <td>-18.163124</td>\n",
       "      <td>-110.787685</td>\n",
       "      <td>-71.121363</td>\n",
       "      <td>-86.865195</td>\n",
       "      <td>112.269163</td>\n",
       "      <td>319.276289</td>\n",
       "    </tr>\n",
       "    <tr>\n",
       "      <th>3</th>\n",
       "      <td>-200</td>\n",
       "      <td>-200</td>\n",
       "      <td>-200</td>\n",
       "      <td>-200</td>\n",
       "      <td>-200</td>\n",
       "      <td>-200.0</td>\n",
       "      <td>-200.0</td>\n",
       "      <td>-200.0</td>\n",
       "      <td>-200</td>\n",
       "      <td>-200.0</td>\n",
       "      <td>...</td>\n",
       "      <td>-105.072701</td>\n",
       "      <td>1.0</td>\n",
       "      <td>-46.160446</td>\n",
       "      <td>-102.412353</td>\n",
       "      <td>-18.085041</td>\n",
       "      <td>-110.884015</td>\n",
       "      <td>-71.101903</td>\n",
       "      <td>-86.987660</td>\n",
       "      <td>112.351631</td>\n",
       "      <td>177.827941</td>\n",
       "    </tr>\n",
       "    <tr>\n",
       "      <th>4</th>\n",
       "      <td>-200</td>\n",
       "      <td>-200</td>\n",
       "      <td>-200</td>\n",
       "      <td>-200</td>\n",
       "      <td>-200</td>\n",
       "      <td>-200.0</td>\n",
       "      <td>-200.0</td>\n",
       "      <td>-200.0</td>\n",
       "      <td>-200</td>\n",
       "      <td>-200.0</td>\n",
       "      <td>...</td>\n",
       "      <td>-105.028319</td>\n",
       "      <td>1.0</td>\n",
       "      <td>-46.210932</td>\n",
       "      <td>-102.299111</td>\n",
       "      <td>-18.163124</td>\n",
       "      <td>-110.787685</td>\n",
       "      <td>-71.121363</td>\n",
       "      <td>-86.865195</td>\n",
       "      <td>112.269163</td>\n",
       "      <td>331.237035</td>\n",
       "    </tr>\n",
       "  </tbody>\n",
       "</table>\n",
       "<p>5 rows × 271 columns</p>\n",
       "</div>"
      ],
      "text/plain": [
       "   879_rssi  911_rssi  921_rssi  944_rssi  980_rssi  1012_rssi  1086_rssi  \\\n",
       "0      -200      -200      -200      -200      -200     -200.0     -200.0   \n",
       "1      -200      -200      -200      -200      -200     -200.0     -200.0   \n",
       "2      -200      -200      -200      -200      -200     -200.0     -200.0   \n",
       "3      -200      -200      -200      -200      -200     -200.0     -200.0   \n",
       "4      -200      -200      -200      -200      -200     -200.0     -200.0   \n",
       "\n",
       "   1092_rssi  1120_rssi  1131_rssi     ...          bs_lng  nseq     rot45X  \\\n",
       "0     -200.0       -200     -200.0     ...     -105.163032   2.0 -46.262107   \n",
       "1     -200.0       -200     -200.0     ...     -105.094321   0.0 -46.188908   \n",
       "2     -200.0       -200     -200.0     ...     -105.028319   2.0 -46.210932   \n",
       "3     -200.0       -200     -200.0     ...     -105.072701   1.0 -46.160446   \n",
       "4     -200.0       -200     -200.0     ...     -105.028319   1.0 -46.210932   \n",
       "\n",
       "       rot45Y     rot30X      rot30Y     rot60X     rot60Y    radial_r  \\\n",
       "0 -102.438420 -18.176504 -110.935511 -71.206860 -86.986528  112.417209   \n",
       "1 -102.414461 -18.111992 -110.893419 -71.129945 -86.982329  112.365253   \n",
       "2 -102.299111 -18.163124 -110.787685 -71.121363 -86.865195  112.269163   \n",
       "3 -102.412353 -18.085041 -110.884015 -71.101903 -86.987660  112.351631   \n",
       "4 -102.299111 -18.163124 -110.787685 -71.121363 -86.865195  112.269163   \n",
       "\n",
       "            d  \n",
       "0  164.689787  \n",
       "1  294.272718  \n",
       "2  319.276289  \n",
       "3  177.827941  \n",
       "4  331.237035  \n",
       "\n",
       "[5 rows x 271 columns]"
      ]
     },
     "execution_count": 47,
     "metadata": {},
     "output_type": "execute_result"
    }
   ],
   "source": [
    "df_feat_test.head()"
   ]
  },
  {
   "cell_type": "code",
   "execution_count": 52,
   "metadata": {
    "ExecuteTime": {
     "end_time": "2018-12-24T20:14:55.146674Z",
     "start_time": "2018-12-24T19:17:22.551942Z"
    }
   },
   "outputs": [],
   "source": [
    "y_pred_lat, y_pred_lng, reg = regressor_and_predict(df_feat, ground_truth_lat, ground_truth_lng, df_feat_test)\n",
    "test_res = pd.DataFrame(np.array([y_pred_lat, y_pred_lng]).T, columns = ['lat', 'lng'])\n",
    "test_res.to_csv('pred_pos_test_list_adaBoost.csv', index=False)"
   ]
  },
  {
   "cell_type": "code",
   "execution_count": 53,
   "metadata": {
    "ExecuteTime": {
     "end_time": "2018-12-24T21:17:40.534222Z",
     "start_time": "2018-12-24T21:17:40.498353Z"
    }
   },
   "outputs": [
    {
     "data": {
      "text/html": [
       "<div>\n",
       "<style scoped>\n",
       "    .dataframe tbody tr th:only-of-type {\n",
       "        vertical-align: middle;\n",
       "    }\n",
       "\n",
       "    .dataframe tbody tr th {\n",
       "        vertical-align: top;\n",
       "    }\n",
       "\n",
       "    .dataframe thead th {\n",
       "        text-align: right;\n",
       "    }\n",
       "</style>\n",
       "<table border=\"1\" class=\"dataframe\">\n",
       "  <thead>\n",
       "    <tr style=\"text-align: right;\">\n",
       "      <th></th>\n",
       "      <th>lat</th>\n",
       "      <th>lng</th>\n",
       "    </tr>\n",
       "  </thead>\n",
       "  <tbody>\n",
       "    <tr>\n",
       "      <th>0</th>\n",
       "      <td>39.731561</td>\n",
       "      <td>-105.106439</td>\n",
       "    </tr>\n",
       "    <tr>\n",
       "      <th>1</th>\n",
       "      <td>39.781938</td>\n",
       "      <td>-105.084045</td>\n",
       "    </tr>\n",
       "    <tr>\n",
       "      <th>2</th>\n",
       "      <td>39.680932</td>\n",
       "      <td>-105.003553</td>\n",
       "    </tr>\n",
       "    <tr>\n",
       "      <th>3</th>\n",
       "      <td>39.780816</td>\n",
       "      <td>-105.082509</td>\n",
       "    </tr>\n",
       "    <tr>\n",
       "      <th>4</th>\n",
       "      <td>39.682043</td>\n",
       "      <td>-105.001230</td>\n",
       "    </tr>\n",
       "  </tbody>\n",
       "</table>\n",
       "</div>"
      ],
      "text/plain": [
       "         lat         lng\n",
       "0  39.731561 -105.106439\n",
       "1  39.781938 -105.084045\n",
       "2  39.680932 -105.003553\n",
       "3  39.780816 -105.082509\n",
       "4  39.682043 -105.001230"
      ]
     },
     "execution_count": 53,
     "metadata": {},
     "output_type": "execute_result"
    }
   ],
   "source": [
    "test_res.head()"
   ]
  }
 ],
 "metadata": {
  "kernelspec": {
   "display_name": "Python 3",
   "language": "python",
   "name": "python3"
  },
  "language_info": {
   "codemirror_mode": {
    "name": "ipython",
    "version": 3
   },
   "file_extension": ".py",
   "mimetype": "text/x-python",
   "name": "python",
   "nbconvert_exporter": "python",
   "pygments_lexer": "ipython3",
   "version": "3.6.8"
  }
 },
 "nbformat": 4,
 "nbformat_minor": 1
}
